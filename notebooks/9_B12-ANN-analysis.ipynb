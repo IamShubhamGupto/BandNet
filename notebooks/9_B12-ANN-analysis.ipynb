{
 "cells": [
  {
   "cell_type": "code",
   "execution_count": 1,
   "id": "4753b744",
   "metadata": {},
   "outputs": [],
   "source": [
    "from sklearn import svm, metrics, tree\n",
    "from sklearn.naive_bayes import GaussianNB\n",
    "from sklearn.model_selection import train_test_split, cross_val_score\n",
    "from sklearn.linear_model import LogisticRegression, SGDClassifier\n",
    "\n",
    "from sklearn.ensemble import RandomForestClassifier\n",
    "from sklearn.neighbors import KNeighborsClassifier\n",
    "from sklearn.metrics import multilabel_confusion_matrix, accuracy_score\n",
    "from sklearn.metrics import jaccard_score\n",
    "import tensorflow as tf\n",
    "from tensorflow import keras\n",
    "from tensorflow.keras import layers, Sequential\n",
    "from tensorflow.keras.models import load_model\n",
    "from tensorflow.keras.layers import Dense,Activation,Dropout, MaxPooling1D, Conv1D, Flatten, BatchNormalization\n",
    "# from tensorflow.keras.layers.normalization import BatchNormalization \n",
    "from tensorflow.keras.callbacks import EarlyStopping, ModelCheckpoint\n",
    "from tensorflow.keras.optimizers import Adam\n",
    "from tensorflow.keras.utils import to_categorical\n",
    "from xgboost import XGBClassifier\n",
    "import numpy as np\n",
    "import pickle\n",
    "import matplotlib.pyplot as plt\n",
    "import pandas as pd\n",
    "import seaborn as sns\n",
    "import snappy"
   ]
  },
  {
   "cell_type": "code",
   "execution_count": 22,
   "id": "066c809e",
   "metadata": {},
   "outputs": [
    {
     "data": {
      "text/plain": [
       "'2.5.0'"
      ]
     },
     "execution_count": 22,
     "metadata": {},
     "output_type": "execute_result"
    }
   ],
   "source": [
    "tf.__version__"
   ]
  },
  {
   "cell_type": "code",
   "execution_count": 2,
   "id": "6ca23a3d",
   "metadata": {},
   "outputs": [],
   "source": [
    "mask_file = r'\\water_mask'\n",
    "mask_path = r'D:\\workspace\\jupyterNotebooks\\Remote Sensing\\Water Segmentation\\data'"
   ]
  },
  {
   "cell_type": "code",
   "execution_count": 3,
   "id": "e9e2486f",
   "metadata": {},
   "outputs": [],
   "source": [
    "water_veg_mask = np.load(r'.\\data\\water_mask.npy')"
   ]
  },
  {
   "cell_type": "code",
   "execution_count": 4,
   "id": "45802a92",
   "metadata": {},
   "outputs": [
    {
     "name": "stdout",
     "output_type": "stream",
     "text": [
      "[0 1] [639757  14724]\n"
     ]
    }
   ],
   "source": [
    "unique, counts = np.unique(water_veg_mask, return_counts=True)\n",
    "print(unique, counts)\n",
    "water_veg_mask = water_veg_mask.flatten()"
   ]
  },
  {
   "cell_type": "code",
   "execution_count": 5,
   "id": "df56a079",
   "metadata": {},
   "outputs": [],
   "source": [
    "product_path = r'D:\\Engi_Books\\CDSAML\\reflectance\\data\\subset_0_of_S1S2_collocated.dim'"
   ]
  },
  {
   "cell_type": "code",
   "execution_count": 6,
   "id": "bb1f7815",
   "metadata": {},
   "outputs": [],
   "source": [
    "product = snappy.ProductIO.readProduct(product_path)\n",
    "width = product.getSceneRasterWidth()\n",
    "height = product.getSceneRasterHeight()"
   ]
  },
  {
   "cell_type": "code",
   "execution_count": 7,
   "id": "fa729e3a",
   "metadata": {},
   "outputs": [],
   "source": [
    "B12 = product.getBand('B12_S')"
   ]
  },
  {
   "cell_type": "code",
   "execution_count": 8,
   "id": "e1fb6b2e",
   "metadata": {},
   "outputs": [
    {
     "data": {
      "text/plain": [
       "array([0.1214, 0.1363, 0.1363, ..., 0.2204, 0.2131, 0.2131], dtype=float32)"
      ]
     },
     "execution_count": 8,
     "metadata": {},
     "output_type": "execute_result"
    }
   ],
   "source": [
    "B12_pixels = np.zeros(width * height, np.float32)\n",
    "B12.readPixels(0,0,width,height,B12_pixels)"
   ]
  },
  {
   "cell_type": "code",
   "execution_count": 9,
   "id": "c1868411",
   "metadata": {},
   "outputs": [],
   "source": [
    "df = pd.DataFrame({\n",
    "#                    'B2':B2_pixels, \n",
    "#                    'B3': B3_pixels,\n",
    "#                    'B4': B4_pixels,\n",
    "#                    'B5': B5_pixels,\n",
    "#                    'B6': B6_pixels,\n",
    "#                    'B7': B7_pixels,\n",
    "#                    'B8': B8_pixels,\n",
    "#                    'B8A': B8A_pixels,\n",
    "#                    'B11': B11_pixels,\n",
    "                   'B12': B12_pixels,\n",
    "                    'Y':water_veg_mask})\n",
    "#df.drop(df[df.X == 0].index,inplace=True)"
   ]
  },
  {
   "cell_type": "code",
   "execution_count": 10,
   "id": "f25e0a57",
   "metadata": {},
   "outputs": [],
   "source": [
    "x_cols = ['B12']"
   ]
  },
  {
   "cell_type": "code",
   "execution_count": 11,
   "id": "74afcf0a",
   "metadata": {},
   "outputs": [],
   "source": [
    "sample_0 = df.query('Y == 0').sample(counts[1])\n",
    "sample_1 = df.query('Y == 1').sample(counts[1])"
   ]
  },
  {
   "cell_type": "code",
   "execution_count": 12,
   "id": "1982141b",
   "metadata": {},
   "outputs": [
    {
     "data": {
      "text/html": [
       "<div>\n",
       "<style scoped>\n",
       "    .dataframe tbody tr th:only-of-type {\n",
       "        vertical-align: middle;\n",
       "    }\n",
       "\n",
       "    .dataframe tbody tr th {\n",
       "        vertical-align: top;\n",
       "    }\n",
       "\n",
       "    .dataframe thead th {\n",
       "        text-align: right;\n",
       "    }\n",
       "</style>\n",
       "<table border=\"1\" class=\"dataframe\">\n",
       "  <thead>\n",
       "    <tr style=\"text-align: right;\">\n",
       "      <th></th>\n",
       "      <th>B12</th>\n",
       "      <th>Y</th>\n",
       "    </tr>\n",
       "  </thead>\n",
       "  <tbody>\n",
       "    <tr>\n",
       "      <th>count</th>\n",
       "      <td>29448.000000</td>\n",
       "      <td>29448.000000</td>\n",
       "    </tr>\n",
       "    <tr>\n",
       "      <th>mean</th>\n",
       "      <td>0.095627</td>\n",
       "      <td>0.500000</td>\n",
       "    </tr>\n",
       "    <tr>\n",
       "      <th>std</th>\n",
       "      <td>0.098387</td>\n",
       "      <td>0.500008</td>\n",
       "    </tr>\n",
       "    <tr>\n",
       "      <th>min</th>\n",
       "      <td>0.002200</td>\n",
       "      <td>0.000000</td>\n",
       "    </tr>\n",
       "    <tr>\n",
       "      <th>25%</th>\n",
       "      <td>0.007000</td>\n",
       "      <td>0.000000</td>\n",
       "    </tr>\n",
       "    <tr>\n",
       "      <th>50%</th>\n",
       "      <td>0.061700</td>\n",
       "      <td>0.500000</td>\n",
       "    </tr>\n",
       "    <tr>\n",
       "      <th>75%</th>\n",
       "      <td>0.177800</td>\n",
       "      <td>1.000000</td>\n",
       "    </tr>\n",
       "    <tr>\n",
       "      <th>max</th>\n",
       "      <td>1.051600</td>\n",
       "      <td>1.000000</td>\n",
       "    </tr>\n",
       "  </tbody>\n",
       "</table>\n",
       "</div>"
      ],
      "text/plain": [
       "                B12             Y\n",
       "count  29448.000000  29448.000000\n",
       "mean       0.095627      0.500000\n",
       "std        0.098387      0.500008\n",
       "min        0.002200      0.000000\n",
       "25%        0.007000      0.000000\n",
       "50%        0.061700      0.500000\n",
       "75%        0.177800      1.000000\n",
       "max        1.051600      1.000000"
      ]
     },
     "execution_count": 12,
     "metadata": {},
     "output_type": "execute_result"
    }
   ],
   "source": [
    "sampled_df = pd.DataFrame()\n",
    "sampled_df = sampled_df.append(sample_0, ignore_index = True).append(sample_1, ignore_index = True)\n",
    "sampled_df = sampled_df.sample(frac=1).reset_index(drop=True)\n",
    "sampled_df.describe()"
   ]
  },
  {
   "cell_type": "code",
   "execution_count": 13,
   "id": "eb1d1075",
   "metadata": {},
   "outputs": [],
   "source": [
    "X_train,X_test,y_train,y_test = train_test_split(sampled_df[x_cols],sampled_df['Y'],test_size=0.2,random_state=1234, stratify = sampled_df['Y'])"
   ]
  },
  {
   "cell_type": "code",
   "execution_count": 14,
   "id": "4d35b148",
   "metadata": {},
   "outputs": [],
   "source": [
    "# X_test,X_val, y_test, y_val = train_test_split(X_test_val,y_test_val,test_size=0.5,random_state=4321, stratify = y_test_val)"
   ]
  },
  {
   "cell_type": "code",
   "execution_count": 15,
   "id": "0b9fbdc7",
   "metadata": {},
   "outputs": [],
   "source": [
    "def show_confusion_matrix(y_test, y_pred, score):    \n",
    "    cm = metrics.confusion_matrix(y_test, y_pred)\n",
    "    plt.figure(figsize=(9,9))\n",
    "    sns.heatmap(cm, annot=True, fmt=\".3f\", linewidths=.5, square = True, cmap = 'Blues_r');\n",
    "    plt.ylabel('Actual label');\n",
    "    plt.xlabel('Predicted label');\n",
    "    all_sample_title = 'Accuracy Score: {0}'.format(score)\n",
    "    plt.title(all_sample_title, size = 15);\n",
    "    return cm"
   ]
  },
  {
   "cell_type": "code",
   "execution_count": 16,
   "id": "9876a532",
   "metadata": {},
   "outputs": [],
   "source": [
    "def get_miou(cm):\n",
    "    col_sums = cm.sum(axis=0)\n",
    "    row_sums = cm.sum(axis=1)\n",
    "    iou = 0.0\n",
    "    for i in range(len(cm)):\n",
    "        tp = cm[i,i]\n",
    "        iou += tp/(col_sums[i]+row_sums[i] - tp)\n",
    "    return iou/len(cm)"
   ]
  },
  {
   "cell_type": "code",
   "execution_count": 17,
   "id": "e76b7ea0",
   "metadata": {},
   "outputs": [],
   "source": [
    "y_train = y_train.to_numpy()\n",
    "y_test = y_test.to_numpy()\n",
    "#     y_val = y_val.to_numpy()"
   ]
  },
  {
   "cell_type": "code",
   "execution_count": 37,
   "id": "a12ba070",
   "metadata": {},
   "outputs": [],
   "source": [
    "y_train= to_categorical(y_train,num_classes=2)\n",
    "y_test= to_categorical(y_test,num_classes=2)\n",
    "y_val = to_categorical(water_veg_mask,num_classes=2)"
   ]
  },
  {
   "cell_type": "code",
   "execution_count": 39,
   "id": "d9673e0c",
   "metadata": {},
   "outputs": [
    {
     "data": {
      "text/plain": [
       "array([[1., 0.],\n",
       "       [1., 0.],\n",
       "       [1., 0.],\n",
       "       ...,\n",
       "       [1., 0.],\n",
       "       [1., 0.],\n",
       "       [1., 0.]], dtype=float32)"
      ]
     },
     "execution_count": 39,
     "metadata": {},
     "output_type": "execute_result"
    }
   ],
   "source": [
    "# y_val."
   ]
  },
  {
   "cell_type": "code",
   "execution_count": 19,
   "id": "935f5277",
   "metadata": {},
   "outputs": [
    {
     "data": {
      "text/plain": [
       "(654481, 1)"
      ]
     },
     "execution_count": 19,
     "metadata": {},
     "output_type": "execute_result"
    }
   ],
   "source": [
    "map_data = pd.DataFrame({'B12': B12_pixels})\n",
    "map_data.shape"
   ]
  },
  {
   "cell_type": "code",
   "execution_count": 31,
   "id": "d9d90fde",
   "metadata": {},
   "outputs": [
    {
     "name": "stdout",
     "output_type": "stream",
     "text": [
      "WARNING:tensorflow:Please add `keras.layers.InputLayer` instead of `keras.Input` to Sequential model. `keras.Input` is intended to be used by Functional model.\n"
     ]
    },
    {
     "name": "stderr",
     "output_type": "stream",
     "text": [
      "WARNING:tensorflow:Please add `keras.layers.InputLayer` instead of `keras.Input` to Sequential model. `keras.Input` is intended to be used by Functional model.\n"
     ]
    }
   ],
   "source": [
    "model = keras.Sequential(\n",
    "        [\n",
    "            layers.Input(shape=(1,)),\n",
    "            layers.experimental.preprocessing.Normalization(),\n",
    "            layers.Dense(32, activation=\"relu\"),\n",
    "            layers.Dense(32, activation=\"relu\"),\n",
    "            layers.Dropout(0.4),\n",
    "            layers.Dense(2, activation=\"sigmoid\")\n",
    "            \n",
    "            \n",
    "        ]\n",
    "        )"
   ]
  },
  {
   "cell_type": "code",
   "execution_count": 32,
   "id": "8605b099",
   "metadata": {},
   "outputs": [],
   "source": [
    "es = EarlyStopping(\n",
    "    monitor='val_loss', \n",
    "    patience=20, \n",
    "    min_delta=0.001, \n",
    "    restore_best_weights=True\n",
    ")\n",
    "mc = ModelCheckpoint(filepath = r'.\\data\\best_model.h5', monitor='val_accuracy', mode='max', verbose=1, save_best_only=True)"
   ]
  },
  {
   "cell_type": "code",
   "execution_count": 33,
   "id": "b456c061",
   "metadata": {},
   "outputs": [],
   "source": [
    "model.compile(\n",
    "    loss=keras.losses.CategoricalCrossentropy(),\n",
    "    optimizer=keras.optimizers.Adam(),\n",
    "    metrics=[\"accuracy\"],\n",
    ")"
   ]
  },
  {
   "cell_type": "code",
   "execution_count": 34,
   "id": "1ebdca6e",
   "metadata": {},
   "outputs": [
    {
     "name": "stdout",
     "output_type": "stream",
     "text": [
      "Epoch 1/100\n",
      "369/369 [==============================] - 5s 5ms/step - loss: 0.3809 - accuracy: 0.9539 - val_loss: 0.1023 - val_accuracy: 0.9815\n",
      "\n",
      "Epoch 00001: val_accuracy improved from -inf to 0.98149, saving model to .\\data\\best_model.h5\n",
      "Epoch 2/100\n",
      "369/369 [==============================] - 1s 4ms/step - loss: 0.0844 - accuracy: 0.9794 - val_loss: 0.0673 - val_accuracy: 0.9805\n",
      "\n",
      "Epoch 00002: val_accuracy did not improve from 0.98149\n",
      "Epoch 3/100\n",
      "369/369 [==============================] - 1s 4ms/step - loss: 0.0680 - accuracy: 0.9823 - val_loss: 0.0554 - val_accuracy: 0.9847\n",
      "\n",
      "Epoch 00003: val_accuracy improved from 0.98149 to 0.98472, saving model to .\\data\\best_model.h5\n",
      "Epoch 4/100\n",
      "369/369 [==============================] - 1s 4ms/step - loss: 0.0653 - accuracy: 0.9830 - val_loss: 0.0544 - val_accuracy: 0.9844\n",
      "\n",
      "Epoch 00004: val_accuracy did not improve from 0.98472\n",
      "Epoch 5/100\n",
      "369/369 [==============================] - 1s 4ms/step - loss: 0.0634 - accuracy: 0.9834 - val_loss: 0.0547 - val_accuracy: 0.9846\n",
      "\n",
      "Epoch 00005: val_accuracy did not improve from 0.98472\n",
      "Epoch 6/100\n",
      "369/369 [==============================] - 1s 4ms/step - loss: 0.0639 - accuracy: 0.9835 - val_loss: 0.0534 - val_accuracy: 0.9844\n",
      "\n",
      "Epoch 00006: val_accuracy did not improve from 0.98472\n",
      "Epoch 7/100\n",
      "369/369 [==============================] - 1s 4ms/step - loss: 0.0616 - accuracy: 0.9831 - val_loss: 0.0535 - val_accuracy: 0.9846\n",
      "\n",
      "Epoch 00007: val_accuracy did not improve from 0.98472\n",
      "Epoch 8/100\n",
      "369/369 [==============================] - 1s 4ms/step - loss: 0.0626 - accuracy: 0.9832 - val_loss: 0.0534 - val_accuracy: 0.9839\n",
      "\n",
      "Epoch 00008: val_accuracy did not improve from 0.98472\n",
      "Epoch 9/100\n",
      "369/369 [==============================] - 1s 4ms/step - loss: 0.0628 - accuracy: 0.9835 - val_loss: 0.0535 - val_accuracy: 0.9842\n",
      "\n",
      "Epoch 00009: val_accuracy did not improve from 0.98472\n",
      "Epoch 10/100\n",
      "369/369 [==============================] - 1s 4ms/step - loss: 0.0619 - accuracy: 0.9836 - val_loss: 0.0542 - val_accuracy: 0.9846\n",
      "\n",
      "Epoch 00010: val_accuracy did not improve from 0.98472\n",
      "Epoch 11/100\n",
      "369/369 [==============================] - 1s 4ms/step - loss: 0.0604 - accuracy: 0.9837 - val_loss: 0.0546 - val_accuracy: 0.9834\n",
      "\n",
      "Epoch 00011: val_accuracy did not improve from 0.98472\n",
      "Epoch 12/100\n",
      "369/369 [==============================] - 1s 4ms/step - loss: 0.0600 - accuracy: 0.9835 - val_loss: 0.0531 - val_accuracy: 0.9837\n",
      "\n",
      "Epoch 00012: val_accuracy did not improve from 0.98472\n",
      "Epoch 13/100\n",
      "369/369 [==============================] - 1s 4ms/step - loss: 0.0609 - accuracy: 0.9837 - val_loss: 0.0530 - val_accuracy: 0.9839\n",
      "\n",
      "Epoch 00013: val_accuracy did not improve from 0.98472\n",
      "Epoch 14/100\n",
      "369/369 [==============================] - 1s 4ms/step - loss: 0.0600 - accuracy: 0.9830 - val_loss: 0.0541 - val_accuracy: 0.9842\n",
      "\n",
      "Epoch 00014: val_accuracy did not improve from 0.98472\n",
      "Epoch 15/100\n",
      "369/369 [==============================] - 1s 4ms/step - loss: 0.0599 - accuracy: 0.9834 - val_loss: 0.0530 - val_accuracy: 0.9839\n",
      "\n",
      "Epoch 00015: val_accuracy did not improve from 0.98472\n",
      "Epoch 16/100\n",
      "369/369 [==============================] - 1s 4ms/step - loss: 0.0603 - accuracy: 0.9834 - val_loss: 0.0532 - val_accuracy: 0.9846\n",
      "\n",
      "Epoch 00016: val_accuracy did not improve from 0.98472\n",
      "Epoch 17/100\n",
      "369/369 [==============================] - 1s 4ms/step - loss: 0.0595 - accuracy: 0.9835 - val_loss: 0.0534 - val_accuracy: 0.9844\n",
      "\n",
      "Epoch 00017: val_accuracy did not improve from 0.98472\n",
      "Epoch 18/100\n",
      "369/369 [==============================] - 1s 4ms/step - loss: 0.0595 - accuracy: 0.9838 - val_loss: 0.0533 - val_accuracy: 0.9846\n",
      "\n",
      "Epoch 00018: val_accuracy did not improve from 0.98472\n",
      "Epoch 19/100\n",
      "369/369 [==============================] - 1s 4ms/step - loss: 0.0598 - accuracy: 0.9837 - val_loss: 0.0532 - val_accuracy: 0.9840\n",
      "\n",
      "Epoch 00019: val_accuracy did not improve from 0.98472\n",
      "Epoch 20/100\n",
      "369/369 [==============================] - 1s 4ms/step - loss: 0.0578 - accuracy: 0.9838 - val_loss: 0.0535 - val_accuracy: 0.9846\n",
      "\n",
      "Epoch 00020: val_accuracy did not improve from 0.98472\n",
      "Epoch 21/100\n",
      "369/369 [==============================] - 1s 4ms/step - loss: 0.0586 - accuracy: 0.9840 - val_loss: 0.0529 - val_accuracy: 0.9837\n",
      "\n",
      "Epoch 00021: val_accuracy did not improve from 0.98472\n",
      "Epoch 22/100\n",
      "369/369 [==============================] - 1s 4ms/step - loss: 0.0588 - accuracy: 0.9839 - val_loss: 0.0530 - val_accuracy: 0.9840\n",
      "\n",
      "Epoch 00022: val_accuracy did not improve from 0.98472\n",
      "Epoch 23/100\n",
      "369/369 [==============================] - 1s 4ms/step - loss: 0.0592 - accuracy: 0.9838 - val_loss: 0.0549 - val_accuracy: 0.9839\n",
      "\n",
      "Epoch 00023: val_accuracy did not improve from 0.98472\n",
      "Epoch 24/100\n",
      "369/369 [==============================] - 1s 4ms/step - loss: 0.0597 - accuracy: 0.9834 - val_loss: 0.0537 - val_accuracy: 0.9846\n",
      "\n",
      "Epoch 00024: val_accuracy did not improve from 0.98472\n",
      "Epoch 25/100\n",
      "369/369 [==============================] - 1s 4ms/step - loss: 0.0590 - accuracy: 0.9837 - val_loss: 0.0527 - val_accuracy: 0.9839\n",
      "\n",
      "Epoch 00025: val_accuracy did not improve from 0.98472\n",
      "Epoch 26/100\n",
      "369/369 [==============================] - 1s 4ms/step - loss: 0.0580 - accuracy: 0.9836 - val_loss: 0.0538 - val_accuracy: 0.9835\n",
      "\n",
      "Epoch 00026: val_accuracy did not improve from 0.98472\n"
     ]
    }
   ],
   "source": [
    "history_keras = model.fit(\n",
    "    X_train,y_train,\n",
    "    validation_data=(X_test,y_test),\n",
    "    batch_size=64,\n",
    "    epochs=100,\n",
    "    callbacks = [mc,es])"
   ]
  },
  {
   "cell_type": "code",
   "execution_count": 40,
   "id": "f995f09b",
   "metadata": {},
   "outputs": [
    {
     "name": "stdout",
     "output_type": "stream",
     "text": [
      "Validation Accuracy of Neural Network 99.13060883356431\n"
     ]
    },
    {
     "data": {
      "image/png": "[encoded data removed]",
      "text/plain": [
       "<Figure size 648x648 with 2 Axes>"
      ]
     },
     "metadata": {
      "needs_background": "light"
     },
     "output_type": "display_data"
    }
   ],
   "source": [
    "prediction_keras=model.predict(map_data)\n",
    "length=len(prediction_keras)\n",
    "y_label=np.argmax(y_val,axis=1)\n",
    "predict_label_keras=np.argmax(prediction_keras,axis=1)\n",
    "\n",
    "accuracy_keras=np.sum(y_label==predict_label_keras)/length * 100 \n",
    "print(\"Validation Accuracy of Neural Network\",accuracy_keras )\n",
    "cm = show_confusion_matrix(y_test = water_veg_mask, y_pred = predict_label_keras, score = accuracy_keras)"
   ]
  },
  {
   "cell_type": "code",
   "execution_count": 41,
   "id": "a09b1720",
   "metadata": {},
   "outputs": [
    {
     "name": "stdout",
     "output_type": "stream",
     "text": [
      "0.8539425073806282\n"
     ]
    }
   ],
   "source": [
    "ann_miou = get_miou(cm)\n",
    "print(ann_miou)"
   ]
  },
  {
   "cell_type": "code",
   "execution_count": null,
   "id": "e276c130",
   "metadata": {},
   "outputs": [],
   "source": []
  }
 ],
 "metadata": {
  "kernelspec": {
   "display_name": "Python 3",
   "language": "python",
   "name": "python3"
  },
  "language_info": {
   "codemirror_mode": {
    "name": "ipython",
    "version": 3
   },
   "file_extension": ".py",
   "mimetype": "text/x-python",
   "name": "python",
   "nbconvert_exporter": "python",
   "pygments_lexer": "ipython3",
   "version": "3.6.13"
  }
 },
 "nbformat": 4,
 "nbformat_minor": 5
}
