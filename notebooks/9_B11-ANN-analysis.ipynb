{
 "cells": [
  {
   "cell_type": "code",
   "execution_count": 1,
   "id": "e858a08c",
   "metadata": {},
   "outputs": [
    {
     "name": "stdout",
     "output_type": "stream",
     "text": [
      "Wall time: 22.4 s\n"
     ]
    }
   ],
   "source": [
    "%%time\n",
    "from sklearn.model_selection import train_test_split\n",
    "from sklearn import metrics\n",
    "import tensorflow as tf\n",
    "import snappy\n",
    "import numpy as np\n",
    "import random as rn\n",
    "import pandas as pd\n",
    "from tensorflow.keras.callbacks import EarlyStopping, ModelCheckpoint\n",
    "from tensorflow.keras.utils import to_categorical\n",
    "import tensorflow.keras.backend as K\n",
    "import matplotlib.pyplot as plt\n",
    "import seaborn as sns\n",
    "np.random.seed(4321)\n",
    "rn.seed(4321)\n",
    "tf.random.set_seed(4321)"
   ]
  },
  {
   "cell_type": "code",
   "execution_count": 2,
   "id": "fd17f81b",
   "metadata": {},
   "outputs": [],
   "source": [
    "water_veg_mask = np.load(r'D:\\workspace\\jupyterNotebooks\\Remote Sensing\\Water-Segmentation\\data\\water_mask.npy')"
   ]
  },
  {
   "cell_type": "code",
   "execution_count": 3,
   "id": "ae8c59c4",
   "metadata": {},
   "outputs": [
    {
     "name": "stdout",
     "output_type": "stream",
     "text": [
      "[0 1] [639757  14724]\n"
     ]
    }
   ],
   "source": [
    "unique, counts = np.unique(water_veg_mask, return_counts=True)\n",
    "print(unique, counts)\n",
    "water_veg_mask = water_veg_mask.flatten()"
   ]
  },
  {
   "cell_type": "code",
   "execution_count": 4,
   "id": "a46b3b98",
   "metadata": {},
   "outputs": [],
   "source": [
    "product_path = r'D:\\Engi_Books\\CDSAML\\reflectance\\data\\subset_0_of_S1S2_collocated.dim'"
   ]
  },
  {
   "cell_type": "code",
   "execution_count": 5,
   "id": "9bd4a5da",
   "metadata": {},
   "outputs": [],
   "source": [
    "product = snappy.ProductIO.readProduct(product_path)\n",
    "width = product.getSceneRasterWidth()\n",
    "height = product.getSceneRasterHeight()"
   ]
  },
  {
   "cell_type": "code",
   "execution_count": 6,
   "id": "fbb8a03a",
   "metadata": {},
   "outputs": [],
   "source": [
    "# B2 = product.getBand('B2')\n",
    "# B3 = product.getBand('B3_S')\n",
    "# B4 = product.getBand('B4_S')\n",
    "# B5 = product.getBand('B5')\n",
    "# B6 = product.getBand('B6')\n",
    "# B7 = product.getBand('B7')\n",
    "# B8 = product.getBand('B8_S')\n",
    "# B8A = product.getBand('B8A')\n",
    "B11 = product.getBand('B11_S')\n",
    "# B12 = product.getBand('B12_S')"
   ]
  },
  {
   "cell_type": "code",
   "execution_count": 7,
   "id": "840354d6",
   "metadata": {},
   "outputs": [
    {
     "data": {
      "text/plain": [
       "array([0.1645, 0.1829, 0.1829, ..., 0.3181, 0.314 , 0.314 ], dtype=float32)"
      ]
     },
     "execution_count": 7,
     "metadata": {},
     "output_type": "execute_result"
    }
   ],
   "source": [
    "# B2_pixels = np.zeros(width * height, np.float32)\n",
    "# B2.readPixels(0,0,width,height,B2_pixels)\n",
    "# # B2_pixels.flatten()\n",
    "\n",
    "# B3_pixels = np.zeros(width * height, np.float32)\n",
    "# B3.readPixels(0,0,width,height,B3_pixels)\n",
    "# B3_pixels.flatten()\n",
    "\n",
    "# B4_pixels = np.zeros(width * height, np.float32)\n",
    "# B4.readPixels(0,0,width,height,B4_pixels)\n",
    "# # B4_pixels.flatten()\n",
    "\n",
    "# B5_pixels = np.zeros(width * height, np.float32)\n",
    "# B5.readPixels(0,0,width,height,B5_pixels)\n",
    "\n",
    "# B6_pixels = np.zeros(width * height, np.float32)\n",
    "# B6.readPixels(0,0,width,height,B6_pixels)\n",
    "\n",
    "# B7_pixels = np.zeros(width * height, np.float32)\n",
    "# B7.readPixels(0,0,width,height,B7_pixels)\n",
    "\n",
    "# B8_pixels = np.zeros(width * height, np.float32)\n",
    "# B8.readPixels(0,0,width,height,B8_pixels)\n",
    "# # B8_pixels.flatten()\n",
    "\n",
    "# B8A_pixels = np.zeros(width * height, np.float32)\n",
    "# B8A.readPixels(0,0,width,height,B8A_pixels)\n",
    "\n",
    "B11_pixels = np.zeros(width * height, np.float32)\n",
    "B11.readPixels(0,0,width,height,B11_pixels)\n",
    "\n",
    "# B12_pixels = np.zeros(width * height, np.float32)\n",
    "# B12.readPixels(0,0,width,height,B12_pixels)"
   ]
  },
  {
   "cell_type": "code",
   "execution_count": 8,
   "id": "6ce76692",
   "metadata": {},
   "outputs": [],
   "source": [
    "df = pd.DataFrame({\n",
    "#                 'B2':B2_pixels, \n",
    "#                    'B3': B3_pixels,\n",
    "#                    'B4': B4_pixels,\n",
    "#                    'B5': B5_pixels,\n",
    "#                    'B6': B6_pixels,\n",
    "#                    'B7': B7_pixels,\n",
    "#                    'B8': B8_pixels,\n",
    "#                    'B8A': B8A_pixels,\n",
    "                   'B11': B11_pixels,\n",
    "#                    'B12': B12_pixels,\n",
    "                    'Y':water_veg_mask})\n",
    "#df.drop(df[df.X == 0].index,inplace=True)"
   ]
  },
  {
   "cell_type": "code",
   "execution_count": 9,
   "id": "d57b8e28",
   "metadata": {},
   "outputs": [],
   "source": [
    "# x_cols = ['B2','B3','B4','B5','B6','B7','B8','B8A','B11','B12']\n",
    "x_cols = [ 'B11']"
   ]
  },
  {
   "cell_type": "code",
   "execution_count": 10,
   "id": "b8a37b4e",
   "metadata": {},
   "outputs": [],
   "source": [
    "sample_0 = df.query('Y == 0').sample(counts[1])\n",
    "sample_1 = df.query('Y == 1').sample(counts[1])"
   ]
  },
  {
   "cell_type": "code",
   "execution_count": 11,
   "id": "9627842f",
   "metadata": {},
   "outputs": [],
   "source": [
    "sampled_df = pd.concat([sample_0, sample_1],keys=['B11', 'Y'])\n",
    "# sampled_df = pd.DataFrame()\n",
    "# sampled_df = sampled_df.append(sample_0, ignore_index = True).append(sample_1, ignore_index = True)\n",
    "sampled_df = sampled_df.sample(frac=1).reset_index(drop=True)"
   ]
  },
  {
   "cell_type": "code",
   "execution_count": 12,
   "id": "b315c31b",
   "metadata": {},
   "outputs": [],
   "source": [
    "# X_train,X_test,y_train,y_test = train_test_split(sampled_df[x_cols],sampled_df['Y'],test_size=0.2,random_state=4321, stratify = sampled_df['Y'])"
   ]
  },
  {
   "cell_type": "code",
   "execution_count": 13,
   "id": "5b2cb080",
   "metadata": {},
   "outputs": [],
   "source": [
    "X_train,X_test,y_train,y_test = train_test_split(df[x_cols],df['Y'],test_size=0.2,random_state=4321, stratify = df['Y'])"
   ]
  },
  {
   "cell_type": "code",
   "execution_count": 14,
   "id": "a77db857",
   "metadata": {},
   "outputs": [],
   "source": [
    "# X_train.reset_index(drop=True, inplace=True)\n",
    "# X_test.reset_index(drop=True, inplace=True)"
   ]
  },
  {
   "cell_type": "code",
   "execution_count": 15,
   "id": "409d3331",
   "metadata": {},
   "outputs": [],
   "source": [
    "# X_train"
   ]
  },
  {
   "cell_type": "code",
   "execution_count": 16,
   "id": "939735af",
   "metadata": {},
   "outputs": [],
   "source": [
    "def show_confusion_matrix(y_test, y_pred, score):    \n",
    "    cm = metrics.confusion_matrix(y_test, y_pred)\n",
    "    plt.figure(figsize=(9,9))\n",
    "    sns.heatmap(cm, annot=True, fmt=\".3f\", linewidths=.5, square = True, cmap = 'Blues_r');\n",
    "    plt.ylabel('Actual label');\n",
    "    plt.xlabel('Predicted label');\n",
    "    all_sample_title = 'Accuracy Score: {0}'.format(score)\n",
    "    plt.title(all_sample_title, size = 15);\n",
    "    return cm"
   ]
  },
  {
   "cell_type": "code",
   "execution_count": 17,
   "id": "d536d7a0",
   "metadata": {},
   "outputs": [],
   "source": [
    "def get_miou(cm):\n",
    "    col_sums = cm.sum(axis=0)\n",
    "    row_sums = cm.sum(axis=1)\n",
    "    iou = 0.0\n",
    "    c = 0\n",
    "    for i in range(len(cm)):\n",
    "        tp = cm[i,i]\n",
    "        denominator = (col_sums[i]+row_sums[i] - tp)\n",
    "        if denominator != 0:\n",
    "            c +=1\n",
    "            iou += tp/denominator\n",
    "    return iou/c"
   ]
  },
  {
   "cell_type": "code",
   "execution_count": 18,
   "id": "c94836ec",
   "metadata": {},
   "outputs": [],
   "source": [
    "def dice_coef(y_true, y_pred, smooth=1):\n",
    "    y_true_f = K.flatten(y_true)\n",
    "    y_pred_f = K.flatten(y_pred)\n",
    "    intersection = K.sum(y_true_f * y_pred_f)\n",
    "    return (2. * intersection + smooth) / (K.sum(y_true_f) + K.sum(y_pred_f) +\n",
    "                                           smooth)\n",
    "\n",
    "\n",
    "def dice_coef_loss(y_true, y_pred):\n",
    "    return 1 - dice_coef(y_true, y_pred)\n",
    "\n",
    "\n",
    "def tversky(y_true, y_pred, smooth=1, alpha=0.7):\n",
    "    y_true_pos = K.flatten(y_true)\n",
    "    y_pred_pos = K.flatten(y_pred)\n",
    "    true_pos = K.sum(y_true_pos * y_pred_pos)\n",
    "    false_neg = K.sum(y_true_pos * (1 - y_pred_pos))\n",
    "    false_pos = K.sum((1 - y_true_pos) * y_pred_pos)\n",
    "    return (true_pos + smooth) / (true_pos + alpha * false_neg +\n",
    "                                  (1 - alpha) * false_pos + smooth)\n",
    "\n",
    "\n",
    "def tversky_loss(y_true, y_pred):\n",
    "    return 1 - tversky(y_true, y_pred)\n",
    "\n",
    "\n",
    "def focal_tversky_loss(y_true, y_pred, gamma=1.1):\n",
    "    tv = tversky(y_true, y_pred)\n",
    "    return K.pow((1 - tv), gamma)"
   ]
  },
  {
   "cell_type": "code",
   "execution_count": 19,
   "id": "7c8d592f",
   "metadata": {},
   "outputs": [],
   "source": [
    "# y_train= to_categorical(y_train,num_classes=2)\n",
    "# y_test= to_categorical(y_test,num_classes=2)\n",
    "# # y_val = to_categorical(y_val,num_classes=3)\n",
    "# print(\"Shape of y_train\",y_train.shape)\n",
    "# print(\"Shape of y_test\",y_test.shape)\n",
    "# print(\"Shape of y_val\",y_val.shape)"
   ]
  },
  {
   "cell_type": "code",
   "execution_count": 20,
   "id": "f43f5bd9",
   "metadata": {},
   "outputs": [],
   "source": [
    "# y_train = y_train.astype('int64')\n",
    "# y_test = y_test.astype('int64')\n"
   ]
  },
  {
   "cell_type": "code",
   "execution_count": 21,
   "id": "3ec4dbb0",
   "metadata": {},
   "outputs": [],
   "source": [
    "X_val = pd.DataFrame({\n",
    "#                 'B2':B2_pixels, \n",
    "#                    'B3': B3_pixels,\n",
    "#                    'B4': B4_pixels,\n",
    "#                    'B5': B5_pixels,\n",
    "#                    'B6': B6_pixels,\n",
    "#                    'B7': B7_pixels,\n",
    "#                    'B8': B8_pixels,\n",
    "#                    'B8A': B8A_pixels,\n",
    "                   'B11': B11_pixels,\n",
    "#                    'B12': B12_pixels,\n",
    "                    })\n",
    "X_val.shape\n",
    "# y_val = to_categorical(water_veg_mask,num_classes=2)\n",
    "y_val = water_veg_mask"
   ]
  },
  {
   "cell_type": "code",
   "execution_count": 22,
   "id": "426d125d",
   "metadata": {},
   "outputs": [],
   "source": [
    "y_train = y_train.astype('float32')\n",
    "y_test = y_test.astype('float32')\n",
    "y_val = y_val.astype('float32')"
   ]
  },
  {
   "cell_type": "code",
   "execution_count": 23,
   "id": "1dd9c952",
   "metadata": {},
   "outputs": [],
   "source": [
    "model = tf.keras.Sequential(\n",
    "        [\n",
    "            tf.keras.layers.InputLayer(input_shape=(1,)),\n",
    "#             tf.keras.layers.experimental.preprocessing.Normalization(),\n",
    "            tf.keras.layers.Dense(32, activation=\"relu\"),\n",
    "#             tf.keras.layers.Dropout(0.4),\n",
    "            tf.keras.layers.Dense(32, activation=\"relu\"),\n",
    "            tf.keras.layers.Dropout(0.4),\n",
    "#             tf.keras.layers.Dense(32, activation=\"relu\"),\n",
    "            tf.keras.layers.Dense(1, activation=\"sigmoid\")\n",
    "            \n",
    "            \n",
    "        ]\n",
    "        )"
   ]
  },
  {
   "cell_type": "code",
   "execution_count": 24,
   "id": "ebd3fb03",
   "metadata": {},
   "outputs": [],
   "source": [
    "es = EarlyStopping(\n",
    "    monitor='val_loss', \n",
    "    patience=5, \n",
    "#     min_delta=0.001, \n",
    "    restore_best_weights=True\n",
    ")"
   ]
  },
  {
   "cell_type": "code",
   "execution_count": 25,
   "id": "6fc83142",
   "metadata": {},
   "outputs": [],
   "source": [
    "mc = ModelCheckpoint(filepath = r'D:\\workspace\\jupyterNotebooks\\Remote Sensing\\Water-Segmentation\\data\\9_b11_ANN_lr_1em4.h5',\n",
    "                     monitor='val_mean_io_u',\n",
    "                     mode='max',\n",
    "                     verbose=1,\n",
    "                     save_best_only=True)"
   ]
  },
  {
   "cell_type": "code",
   "execution_count": 26,
   "id": "a71e0ff5",
   "metadata": {},
   "outputs": [],
   "source": [
    "# model.compile(\n",
    "#     loss=[focal_tversky_loss],\n",
    "#     optimizer=tf.keras.optimizers.Adam(9e-5),\n",
    "#     metrics=[tf.keras.metrics.MeanIoU(2)],\n",
    "# )\n",
    "\n",
    "model.compile(\n",
    "    loss=[tf.keras.losses.BinaryCrossentropy()],\n",
    "    optimizer=tf.keras.optimizers.Adam(1e-4),\n",
    "    metrics=[tf.keras.metrics.BinaryAccuracy()],\n",
    ")"
   ]
  },
  {
   "cell_type": "code",
   "execution_count": 27,
   "id": "ce27ec0c",
   "metadata": {},
   "outputs": [
    {
     "name": "stdout",
     "output_type": "stream",
     "text": [
      "Epoch 1/500\n",
      "4091/4091 [==============================] - 69s 16ms/step - loss: 0.1767 - binary_accuracy: 0.9773 - val_loss: 0.0642 - val_binary_accuracy: 0.9775\n",
      "Epoch 2/500\n",
      "4091/4091 [==============================] - 64s 16ms/step - loss: 0.0426 - binary_accuracy: 0.9839 - val_loss: 0.0158 - val_binary_accuracy: 0.9966\n",
      "Epoch 3/500\n",
      "4091/4091 [==============================] - 26s 6ms/step - loss: 0.0154 - binary_accuracy: 0.9959 - val_loss: 0.0121 - val_binary_accuracy: 0.9965\n",
      "Epoch 4/500\n",
      "4091/4091 [==============================] - 22s 5ms/step - loss: 0.0135 - binary_accuracy: 0.9961 - val_loss: 0.0117 - val_binary_accuracy: 0.9965\n",
      "Epoch 5/500\n",
      "4091/4091 [==============================] - 22s 5ms/step - loss: 0.0133 - binary_accuracy: 0.9961 - val_loss: 0.0116 - val_binary_accuracy: 0.9965\n",
      "Epoch 6/500\n",
      "4091/4091 [==============================] - 22s 5ms/step - loss: 0.0132 - binary_accuracy: 0.9962 - val_loss: 0.0114 - val_binary_accuracy: 0.9965\n",
      "Epoch 7/500\n",
      "4091/4091 [==============================] - 22s 5ms/step - loss: 0.0128 - binary_accuracy: 0.9963 - val_loss: 0.0113 - val_binary_accuracy: 0.9965\n",
      "Epoch 8/500\n",
      "4091/4091 [==============================] - 23s 6ms/step - loss: 0.0128 - binary_accuracy: 0.9963 - val_loss: 0.0112 - val_binary_accuracy: 0.9965\n",
      "Epoch 9/500\n",
      "4091/4091 [==============================] - 23s 6ms/step - loss: 0.0127 - binary_accuracy: 0.9963 - val_loss: 0.0111 - val_binary_accuracy: 0.9965\n",
      "Epoch 10/500\n",
      "4091/4091 [==============================] - 22s 5ms/step - loss: 0.0126 - binary_accuracy: 0.9964 - val_loss: 0.0111 - val_binary_accuracy: 0.9966\n",
      "Epoch 11/500\n",
      "4091/4091 [==============================] - 23s 6ms/step - loss: 0.0127 - binary_accuracy: 0.9964 - val_loss: 0.0110 - val_binary_accuracy: 0.9966\n",
      "Epoch 12/500\n",
      "4091/4091 [==============================] - 23s 6ms/step - loss: 0.0125 - binary_accuracy: 0.9964 - val_loss: 0.0110 - val_binary_accuracy: 0.9966\n",
      "Epoch 13/500\n",
      "4091/4091 [==============================] - 24s 6ms/step - loss: 0.0127 - binary_accuracy: 0.9964 - val_loss: 0.0109 - val_binary_accuracy: 0.9965\n",
      "Epoch 14/500\n",
      "4091/4091 [==============================] - 27s 7ms/step - loss: 0.0124 - binary_accuracy: 0.9964 - val_loss: 0.0108 - val_binary_accuracy: 0.9966\n",
      "Epoch 15/500\n",
      "4091/4091 [==============================] - 27s 7ms/step - loss: 0.0124 - binary_accuracy: 0.9964 - val_loss: 0.0108 - val_binary_accuracy: 0.9966\n",
      "Epoch 16/500\n",
      "4091/4091 [==============================] - 27s 7ms/step - loss: 0.0123 - binary_accuracy: 0.9964 - val_loss: 0.0107 - val_binary_accuracy: 0.9966\n",
      "Epoch 17/500\n",
      "4091/4091 [==============================] - 27s 7ms/step - loss: 0.0121 - binary_accuracy: 0.9964 - val_loss: 0.0106 - val_binary_accuracy: 0.9966\n",
      "Epoch 18/500\n",
      "4091/4091 [==============================] - 27s 7ms/step - loss: 0.0118 - binary_accuracy: 0.9965 - val_loss: 0.0106 - val_binary_accuracy: 0.9966\n",
      "Epoch 19/500\n",
      "4091/4091 [==============================] - 24s 6ms/step - loss: 0.0121 - binary_accuracy: 0.9965 - val_loss: 0.0105 - val_binary_accuracy: 0.9965\n",
      "Epoch 20/500\n",
      "4091/4091 [==============================] - 22s 5ms/step - loss: 0.0119 - binary_accuracy: 0.9965 - val_loss: 0.0105 - val_binary_accuracy: 0.9965\n",
      "Epoch 21/500\n",
      "4091/4091 [==============================] - 22s 5ms/step - loss: 0.0118 - binary_accuracy: 0.9965 - val_loss: 0.0104 - val_binary_accuracy: 0.9966\n",
      "Epoch 22/500\n",
      "4091/4091 [==============================] - 22s 5ms/step - loss: 0.0118 - binary_accuracy: 0.9964 - val_loss: 0.0104 - val_binary_accuracy: 0.9965\n",
      "Epoch 23/500\n",
      "4091/4091 [==============================] - 24s 6ms/step - loss: 0.0117 - binary_accuracy: 0.9964 - val_loss: 0.0103 - val_binary_accuracy: 0.9967\n",
      "Epoch 24/500\n",
      "4091/4091 [==============================] - 24s 6ms/step - loss: 0.0117 - binary_accuracy: 0.9964 - val_loss: 0.0103 - val_binary_accuracy: 0.9965\n",
      "Epoch 25/500\n",
      "4091/4091 [==============================] - 24s 6ms/step - loss: 0.0114 - binary_accuracy: 0.9964 - val_loss: 0.0103 - val_binary_accuracy: 0.9967\n",
      "Epoch 26/500\n",
      "4091/4091 [==============================] - 23s 6ms/step - loss: 0.0116 - binary_accuracy: 0.9964 - val_loss: 0.0102 - val_binary_accuracy: 0.9965\n",
      "Epoch 27/500\n",
      "4091/4091 [==============================] - 22s 5ms/step - loss: 0.0116 - binary_accuracy: 0.9965 - val_loss: 0.0102 - val_binary_accuracy: 0.9967\n",
      "Epoch 28/500\n",
      "4091/4091 [==============================] - 21s 5ms/step - loss: 0.0115 - binary_accuracy: 0.9965 - val_loss: 0.0102 - val_binary_accuracy: 0.9966\n",
      "Epoch 29/500\n",
      "4091/4091 [==============================] - 21s 5ms/step - loss: 0.0115 - binary_accuracy: 0.9965 - val_loss: 0.0101 - val_binary_accuracy: 0.9967\n",
      "Epoch 30/500\n",
      "4091/4091 [==============================] - 21s 5ms/step - loss: 0.0114 - binary_accuracy: 0.9965 - val_loss: 0.0101 - val_binary_accuracy: 0.9965\n",
      "Epoch 31/500\n",
      "4091/4091 [==============================] - 21s 5ms/step - loss: 0.0114 - binary_accuracy: 0.9964 - val_loss: 0.0101 - val_binary_accuracy: 0.9967\n",
      "Epoch 32/500\n",
      "4091/4091 [==============================] - 21s 5ms/step - loss: 0.0114 - binary_accuracy: 0.9964 - val_loss: 0.0100 - val_binary_accuracy: 0.9966\n",
      "Epoch 33/500\n",
      "4091/4091 [==============================] - 20s 5ms/step - loss: 0.0112 - binary_accuracy: 0.9965 - val_loss: 0.0102 - val_binary_accuracy: 0.9966\n",
      "Epoch 34/500\n",
      "4091/4091 [==============================] - 22s 5ms/step - loss: 0.0113 - binary_accuracy: 0.9965 - val_loss: 0.0100 - val_binary_accuracy: 0.9967\n",
      "Epoch 35/500\n",
      "4091/4091 [==============================] - 22s 5ms/step - loss: 0.0115 - binary_accuracy: 0.9965 - val_loss: 0.0100 - val_binary_accuracy: 0.9967\n",
      "Epoch 36/500\n",
      "4091/4091 [==============================] - 21s 5ms/step - loss: 0.0114 - binary_accuracy: 0.9965 - val_loss: 0.0100 - val_binary_accuracy: 0.9967\n",
      "Epoch 37/500\n",
      "4091/4091 [==============================] - 21s 5ms/step - loss: 0.0113 - binary_accuracy: 0.9964 - val_loss: 0.0100 - val_binary_accuracy: 0.9967\n",
      "Epoch 38/500\n",
      "4091/4091 [==============================] - 24s 6ms/step - loss: 0.0114 - binary_accuracy: 0.9965 - val_loss: 0.0100 - val_binary_accuracy: 0.9966\n",
      "Epoch 39/500\n",
      "4091/4091 [==============================] - 24s 6ms/step - loss: 0.0112 - binary_accuracy: 0.9964 - val_loss: 0.0100 - val_binary_accuracy: 0.9965\n",
      "Epoch 40/500\n",
      "4091/4091 [==============================] - 24s 6ms/step - loss: 0.0113 - binary_accuracy: 0.9964 - val_loss: 0.0099 - val_binary_accuracy: 0.9965\n",
      "Epoch 41/500\n",
      "4091/4091 [==============================] - 24s 6ms/step - loss: 0.0112 - binary_accuracy: 0.9965 - val_loss: 0.0100 - val_binary_accuracy: 0.9965\n",
      "Epoch 42/500\n",
      "4091/4091 [==============================] - 24s 6ms/step - loss: 0.0112 - binary_accuracy: 0.9965 - val_loss: 0.0099 - val_binary_accuracy: 0.9965\n",
      "Epoch 43/500\n",
      "4091/4091 [==============================] - 24s 6ms/step - loss: 0.0112 - binary_accuracy: 0.9965 - val_loss: 0.0099 - val_binary_accuracy: 0.9966\n",
      "Epoch 44/500\n",
      "4091/4091 [==============================] - 24s 6ms/step - loss: 0.0112 - binary_accuracy: 0.9965 - val_loss: 0.0099 - val_binary_accuracy: 0.9965\n",
      "Epoch 45/500\n",
      "4091/4091 [==============================] - 24s 6ms/step - loss: 0.0112 - binary_accuracy: 0.9964 - val_loss: 0.0099 - val_binary_accuracy: 0.9965\n",
      "Epoch 46/500\n",
      "4091/4091 [==============================] - 24s 6ms/step - loss: 0.0112 - binary_accuracy: 0.9964 - val_loss: 0.0099 - val_binary_accuracy: 0.9965\n",
      "Epoch 47/500\n",
      "4091/4091 [==============================] - 24s 6ms/step - loss: 0.0111 - binary_accuracy: 0.9965 - val_loss: 0.0099 - val_binary_accuracy: 0.9965\n",
      "Epoch 48/500\n",
      "4091/4091 [==============================] - 24s 6ms/step - loss: 0.0111 - binary_accuracy: 0.9965 - val_loss: 0.0099 - val_binary_accuracy: 0.9965\n",
      "Epoch 49/500\n",
      "4091/4091 [==============================] - 24s 6ms/step - loss: 0.0111 - binary_accuracy: 0.9964 - val_loss: 0.0099 - val_binary_accuracy: 0.9965\n",
      "Epoch 50/500\n",
      "4091/4091 [==============================] - 24s 6ms/step - loss: 0.0111 - binary_accuracy: 0.9964 - val_loss: 0.0099 - val_binary_accuracy: 0.9965\n",
      "Epoch 51/500\n",
      "4091/4091 [==============================] - 24s 6ms/step - loss: 0.0110 - binary_accuracy: 0.9965 - val_loss: 0.0099 - val_binary_accuracy: 0.9965\n"
     ]
    },
    {
     "name": "stdout",
     "output_type": "stream",
     "text": [
      "Epoch 52/500\n",
      "4091/4091 [==============================] - 22s 5ms/step - loss: 0.0110 - binary_accuracy: 0.9964 - val_loss: 0.0100 - val_binary_accuracy: 0.9966\n",
      "Epoch 53/500\n",
      "4091/4091 [==============================] - 22s 5ms/step - loss: 0.0110 - binary_accuracy: 0.9965 - val_loss: 0.0099 - val_binary_accuracy: 0.9965\n",
      "Epoch 54/500\n",
      "4091/4091 [==============================] - 22s 5ms/step - loss: 0.0111 - binary_accuracy: 0.9964 - val_loss: 0.0099 - val_binary_accuracy: 0.9965\n",
      "Epoch 55/500\n",
      "4091/4091 [==============================] - 22s 5ms/step - loss: 0.0110 - binary_accuracy: 0.9965 - val_loss: 0.0099 - val_binary_accuracy: 0.9965\n",
      "Epoch 56/500\n",
      "4091/4091 [==============================] - 22s 5ms/step - loss: 0.0109 - binary_accuracy: 0.9964 - val_loss: 0.0099 - val_binary_accuracy: 0.9965\n",
      "Epoch 57/500\n",
      "4091/4091 [==============================] - 22s 5ms/step - loss: 0.0111 - binary_accuracy: 0.9964 - val_loss: 0.0099 - val_binary_accuracy: 0.9965\n",
      "Epoch 58/500\n",
      "4091/4091 [==============================] - 22s 5ms/step - loss: 0.0109 - binary_accuracy: 0.9965 - val_loss: 0.0099 - val_binary_accuracy: 0.9965\n",
      "Epoch 59/500\n",
      "4091/4091 [==============================] - 27s 7ms/step - loss: 0.0111 - binary_accuracy: 0.9965 - val_loss: 0.0099 - val_binary_accuracy: 0.9965\n",
      "Epoch 60/500\n",
      "4091/4091 [==============================] - 23s 6ms/step - loss: 0.0110 - binary_accuracy: 0.9965 - val_loss: 0.0098 - val_binary_accuracy: 0.9965\n",
      "Epoch 61/500\n",
      "4091/4091 [==============================] - 22s 5ms/step - loss: 0.0111 - binary_accuracy: 0.9965 - val_loss: 0.0099 - val_binary_accuracy: 0.9965\n",
      "Epoch 62/500\n",
      "4091/4091 [==============================] - 22s 5ms/step - loss: 0.0111 - binary_accuracy: 0.9964 - val_loss: 0.0098 - val_binary_accuracy: 0.9965\n",
      "Epoch 63/500\n",
      "4091/4091 [==============================] - 22s 5ms/step - loss: 0.0110 - binary_accuracy: 0.9965 - val_loss: 0.0099 - val_binary_accuracy: 0.9967\n",
      "Epoch 64/500\n",
      "4091/4091 [==============================] - 21s 5ms/step - loss: 0.0110 - binary_accuracy: 0.9965 - val_loss: 0.0099 - val_binary_accuracy: 0.9967\n",
      "Epoch 65/500\n",
      "4091/4091 [==============================] - 21s 5ms/step - loss: 0.0109 - binary_accuracy: 0.9965 - val_loss: 0.0100 - val_binary_accuracy: 0.9967\n",
      "Epoch 66/500\n",
      "4091/4091 [==============================] - 21s 5ms/step - loss: 0.0110 - binary_accuracy: 0.9964 - val_loss: 0.0098 - val_binary_accuracy: 0.9965\n",
      "Epoch 67/500\n",
      "4091/4091 [==============================] - 20s 5ms/step - loss: 0.0110 - binary_accuracy: 0.9964 - val_loss: 0.0098 - val_binary_accuracy: 0.9965\n",
      "Wall time: 27min 4s\n"
     ]
    }
   ],
   "source": [
    "%%time\n",
    "with tf.device('/gpu:0'):\n",
    "    history_keras = model.fit(\n",
    "        X_train,y_train,\n",
    "        validation_data=(X_test,y_test),\n",
    "        batch_size=128,\n",
    "        epochs=500,\n",
    "        callbacks = [es]\n",
    "        )"
   ]
  },
  {
   "cell_type": "code",
   "execution_count": 28,
   "id": "bc676fbb",
   "metadata": {},
   "outputs": [
    {
     "data": {
      "image/png": "[encoded data removed]",
      "text/plain": [
       "<Figure size 648x648 with 2 Axes>"
      ]
     },
     "metadata": {
      "needs_background": "light"
     },
     "output_type": "display_data"
    }
   ],
   "source": [
    "# clf_y_pred = model.predict(X_val)\n",
    "# y_label=np.argmax(y_val,axis=1)\n",
    "# length=len(clf_y_pred)\n",
    "# predict_label_ak=np.argmax(clf_y_pred,axis=1)\n",
    "\n",
    "# accuracy_ak=np.sum(y_label==predict_label_ak)/length * 100 \n",
    "\n",
    "# cm = show_confusion_matrix(y_test = y_label, y_pred = predict_label_ak, score = accuracy_ak)\n",
    "\n",
    "clf_y_pred = model.predict(X_val)\n",
    "clf_y_pred = [1 if x > 0.5 else 0 for x in clf_y_pred]\n",
    "clf_y_pred = np.array(clf_y_pred)\n",
    "# y_label=np.argmax(y_val,a)\n",
    "length=len(clf_y_pred)\n",
    "# predict_label_ak=np.argmax(clf_y_pred,axis=1)\n",
    "\n",
    "accuracy_ak=np.sum(y_val==clf_y_pred)/length * 100 \n",
    "\n",
    "cm = show_confusion_matrix(y_test = y_val, y_pred = clf_y_pred, score = accuracy_ak)"
   ]
  },
  {
   "cell_type": "code",
   "execution_count": null,
   "id": "f5312c13",
   "metadata": {},
   "outputs": [],
   "source": []
  },
  {
   "cell_type": "code",
   "execution_count": 29,
   "id": "e309f256",
   "metadata": {},
   "outputs": [
    {
     "name": "stdout",
     "output_type": "stream",
     "text": [
      "0.9247911796850944\n"
     ]
    }
   ],
   "source": [
    "ann_miou = get_miou(cm)\n",
    "print(ann_miou)"
   ]
  },
  {
   "cell_type": "code",
   "execution_count": 30,
   "id": "73d70d21",
   "metadata": {},
   "outputs": [
    {
     "data": {
      "image/png": "[encoded data removed]",
      "text/plain": [
       "<Figure size 648x648 with 2 Axes>"
      ]
     },
     "metadata": {
      "needs_background": "light"
     },
     "output_type": "display_data"
    }
   ],
   "source": [
    "# clf_y_pred = model.predict(X_test)\n",
    "# y_label=np.argmax(y_test,axis=1)\n",
    "# length=len(clf_y_pred)\n",
    "# predict_label_ak=np.argmax(clf_y_pred,axis=1)\n",
    "\n",
    "# accuracy_ak=np.sum(y_label==predict_label_ak)/length * 100 \n",
    "\n",
    "# cm = show_confusion_matrix(y_test = y_label, y_pred = predict_label_ak, score = accuracy_ak)\n",
    "\n",
    "clf_y_pred = model.predict(X_test)\n",
    "clf_y_pred = [1 if x > 0.5 else 0 for x in clf_y_pred]\n",
    "clf_y_pred = np.array(clf_y_pred)\n",
    "# y_label=np.argmax(y_test,axis=1)\n",
    "length=len(clf_y_pred)\n",
    "# predict_label_ak=np.argmax(clf_y_pred,axis=1)\n",
    "\n",
    "accuracy_ak=np.sum(y_test==clf_y_pred)/length * 100 \n",
    "\n",
    "cm = show_confusion_matrix(y_test = y_test, y_pred = clf_y_pred, score = accuracy_ak)"
   ]
  },
  {
   "cell_type": "code",
   "execution_count": 31,
   "id": "3308276f",
   "metadata": {},
   "outputs": [
    {
     "name": "stdout",
     "output_type": "stream",
     "text": [
      "0.9268309062831186\n"
     ]
    }
   ],
   "source": [
    "ann_miou = get_miou(cm)\n",
    "print(ann_miou)"
   ]
  },
  {
   "cell_type": "code",
   "execution_count": 32,
   "id": "e05ff1db",
   "metadata": {},
   "outputs": [
    {
     "name": "stdout",
     "output_type": "stream",
     "text": [
      "Model: \"sequential\"\n",
      "_________________________________________________________________\n",
      "Layer (type)                 Output Shape              Param #   \n",
      "=================================================================\n",
      "dense (Dense)                (None, 32)                64        \n",
      "_________________________________________________________________\n",
      "dense_1 (Dense)              (None, 32)                1056      \n",
      "_________________________________________________________________\n",
      "dropout (Dropout)            (None, 32)                0         \n",
      "_________________________________________________________________\n",
      "dense_2 (Dense)              (None, 1)                 33        \n",
      "=================================================================\n",
      "Total params: 1,153\n",
      "Trainable params: 1,153\n",
      "Non-trainable params: 0\n",
      "_________________________________________________________________\n"
     ]
    }
   ],
   "source": [
    "model.summary()"
   ]
  },
  {
   "cell_type": "code",
   "execution_count": 33,
   "id": "94c0a4f4",
   "metadata": {},
   "outputs": [
    {
     "name": "stdout",
     "output_type": "stream",
     "text": [
      "INFO:tensorflow:Assets written to: D:\\workspace\\jupyterNotebooks\\Remote Sensing\\Water-Segmentation\\data\\9_B11_ANN_S_BC\\assets\n"
     ]
    },
    {
     "name": "stderr",
     "output_type": "stream",
     "text": [
      "INFO:tensorflow:Assets written to: D:\\workspace\\jupyterNotebooks\\Remote Sensing\\Water-Segmentation\\data\\9_B11_ANN_S_BC\\assets\n"
     ]
    }
   ],
   "source": [
    "model.save(r'D:\\workspace\\jupyterNotebooks\\Remote Sensing\\Water-Segmentation\\data\\9_B11_ANN_S_BC')"
   ]
  },
  {
   "cell_type": "code",
   "execution_count": null,
   "id": "ab7dad72",
   "metadata": {},
   "outputs": [],
   "source": []
  }
 ],
 "metadata": {
  "kernelspec": {
   "display_name": "Python 3",
   "language": "python",
   "name": "python3"
  },
  "language_info": {
   "codemirror_mode": {
    "name": "ipython",
    "version": 3
   },
   "file_extension": ".py",
   "mimetype": "text/x-python",
   "name": "python",
   "nbconvert_exporter": "python",
   "pygments_lexer": "ipython3",
   "version": "3.6.13"
  }
 },
 "nbformat": 4,
 "nbformat_minor": 5
}
