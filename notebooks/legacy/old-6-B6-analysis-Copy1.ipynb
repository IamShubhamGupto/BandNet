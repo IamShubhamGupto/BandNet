{
 "cells": [
  {
   "cell_type": "code",
   "execution_count": 1,
   "metadata": {},
   "outputs": [],
   "source": [
    "from sklearn import svm, metrics, tree\n",
    "from sklearn.naive_bayes import GaussianNB\n",
    "from sklearn.model_selection import train_test_split, cross_val_score\n",
    "from sklearn.linear_model import LogisticRegression, SGDClassifier\n",
    "\n",
    "from sklearn.ensemble import RandomForestClassifier\n",
    "from sklearn.neighbors import KNeighborsClassifier\n",
    "from sklearn.metrics import multilabel_confusion_matrix, accuracy_score\n",
    "#import tensorflow as tf\n",
    "#from tensorflow import keras\n",
    "#from tensorflow.keras import layers, Sequential\n",
    "#from tensorflow.keras.models import load_model\n",
    "#from tensorflow.keras.layers import Dense,Activation,Dropout, MaxPooling1D, Conv1D, Flatten, BatchNormalization\n",
    "# from tensorflow.keras.layers.normalization import BatchNormalization \n",
    "#from tensorflow.keras.callbacks import EarlyStopping\n",
    "#from tensorflow.keras.optimizers import Adam\n",
    "#from tensorflow.keras.utils import to_categorical\n",
    "from xgboost import XGBClassifier\n",
    "import numpy as np\n",
    "import pickle\n",
    "import matplotlib.pyplot as plt\n",
    "import pandas as pd\n",
    "import seaborn as sns\n",
    "import snappy\n",
    "#print(\"Num GPUs Available: \", len(tf.test.gpu_device_name()))"
   ]
  },
  {
   "cell_type": "code",
   "execution_count": 2,
   "metadata": {},
   "outputs": [
    {
     "name": "stdout",
     "output_type": "stream",
     "text": [
      "Requirement already satisfied: scikit-learn in c:\\users\\gaurika-laptop\\anaconda3\\envs\\snap2\\lib\\site-packages (0.24.2)\n",
      "Requirement already satisfied: scipy>=0.19.1 in c:\\users\\gaurika-laptop\\anaconda3\\envs\\snap2\\lib\\site-packages (from scikit-learn) (1.5.4)\n",
      "Requirement already satisfied: threadpoolctl>=2.0.0 in c:\\users\\gaurika-laptop\\anaconda3\\envs\\snap2\\lib\\site-packages (from scikit-learn) (2.2.0)\n",
      "Requirement already satisfied: numpy>=1.13.3 in c:\\users\\gaurika-laptop\\anaconda3\\envs\\snap2\\lib\\site-packages (from scikit-learn) (1.19.5)\n",
      "Requirement already satisfied: joblib>=0.11 in c:\\users\\gaurika-laptop\\anaconda3\\envs\\snap2\\lib\\site-packages (from scikit-learn) (1.0.1)\n"
     ]
    }
   ],
   "source": [
    "!pip install -U scikit-learn\n",
    "\n"
   ]
  },
  {
   "cell_type": "code",
   "execution_count": 3,
   "metadata": {},
   "outputs": [
    {
     "name": "stdout",
     "output_type": "stream",
     "text": [
      "Requirement already satisfied: xgboost in c:\\users\\gaurika-laptop\\anaconda3\\envs\\snap2\\lib\\site-packages (1.4.2)\n",
      "Requirement already satisfied: scipy in c:\\users\\gaurika-laptop\\anaconda3\\envs\\snap2\\lib\\site-packages (from xgboost) (1.5.4)\n",
      "Requirement already satisfied: numpy in c:\\users\\gaurika-laptop\\anaconda3\\envs\\snap2\\lib\\site-packages (from xgboost) (1.19.5)\n"
     ]
    }
   ],
   "source": [
    "!pip install xgboost\n",
    "\n"
   ]
  },
  {
   "cell_type": "code",
   "execution_count": null,
   "metadata": {},
   "outputs": [],
   "source": []
  },
  {
   "cell_type": "code",
   "execution_count": 4,
   "metadata": {},
   "outputs": [],
   "source": [
    "#tf.test.gpu_device_name()"
   ]
  },
  {
   "cell_type": "code",
   "execution_count": 5,
   "metadata": {},
   "outputs": [],
   "source": [
    "mask_file = r'\\water_veg_mask'\n",
    "mask_path = r'C:\\Users\\gaurika-laptop\\Desktop\\Projects\\identification of water bodies\\Water-Segmentation\\data'"
   ]
  },
  {
   "cell_type": "code",
   "execution_count": 6,
   "metadata": {},
   "outputs": [],
   "source": [
    "water_veg_mask = np.load(r'.\\data\\water_veg_mask.npy')"
   ]
  },
  {
   "cell_type": "code",
   "execution_count": 7,
   "metadata": {},
   "outputs": [
    {
     "name": "stdout",
     "output_type": "stream",
     "text": [
      "[0 1 2] [503834  14724 135923]\n"
     ]
    }
   ],
   "source": [
    "unique, counts = np.unique(water_veg_mask, return_counts=True)\n",
    "print(unique, counts)\n",
    "water_veg_mask = water_veg_mask.flatten()"
   ]
  },
  {
   "cell_type": "code",
   "execution_count": 8,
   "metadata": {},
   "outputs": [],
   "source": [
    "# flag_0s = water_veg_mask == 0\n",
    "# flag_1s = water_veg_mask == 1\n",
    "# flag_2s = water_veg_mask == 2\n",
    "# mask_0 = water_veg_mask[flag_0s]\n",
    "# mask_1 = water_veg_mask[flag_1s]\n",
    "# mask_2 = water_veg_mask[flag_2s]\n"
   ]
  },
  {
   "cell_type": "code",
   "execution_count": 9,
   "metadata": {},
   "outputs": [],
   "source": [
    "# non_vegetated_data = np.random.choice(mask_0, size = len(mask_1), replace = False)\n",
    "# vegetated_data = np.random.choice(mask_2, size = len(mask_1), replace =False)\n",
    "# print(non_vegetated_data)\n",
    "# print(vegetated_data)\n",
    "# print(mask_1)"
   ]
  },
  {
   "cell_type": "code",
   "execution_count": 10,
   "metadata": {},
   "outputs": [],
   "source": [
    "product_path = r'C:\\Users\\gaurika-laptop\\Downloads\\data (1)\\data\\subset_0_of_S1S2_collocated.dim' "
   ]
  },
  {
   "cell_type": "code",
   "execution_count": 11,
   "metadata": {},
   "outputs": [],
   "source": [
    "product = snappy.ProductIO.readProduct(product_path)\n",
    "width = product.getSceneRasterWidth()\n",
    "height = product.getSceneRasterHeight()"
   ]
  },
  {
   "cell_type": "code",
   "execution_count": 12,
   "metadata": {},
   "outputs": [],
   "source": [
    "B2 = product.getBand('B6_S')\n",
    "# B3 = product.getBand('B3')\n",
    "# B4 = product.getBand('B4')\n",
    "# B5 = product.getBand('B5')\n",
    "# B6 = product.getBand('B6')\n",
    "# B7 = product.getBand('B7')\n",
    "# B8 = product.getBand('B8')\n",
    "# B8A = product.getBand('B8A')\n",
    "# B11 = product.getBand('B11')\n",
    "# B12 = product.getBand('B12')"
   ]
  },
  {
   "cell_type": "code",
   "execution_count": 13,
   "metadata": {},
   "outputs": [
    {
     "data": {
      "text/plain": [
       "array([0.1347, 0.1435, 0.1435, ..., 0.1877, 0.1914, 0.1914], dtype=float32)"
      ]
     },
     "execution_count": 13,
     "metadata": {},
     "output_type": "execute_result"
    }
   ],
   "source": [
    "B2_pixels = np.zeros(width * height, np.float32)\n",
    "B2.readPixels(0,0,width,height,B2_pixels)\n",
    "# B2_pixels.flatten()\n",
    "\n",
    "# B3_pixels = np.zeros(width * height, np.float32)\n",
    "# B3.readPixels(0,0,width,height,B3_pixels)\n",
    "# # B3_pixels.flatten()\n",
    "\n",
    "# B4_pixels = np.zeros(width * height, np.float32)\n",
    "# B4.readPixels(0,0,width,height,B4_pixels)\n",
    "# # B4_pixels.flatten()\n",
    "\n",
    "# B5_pixels = np.zeros(width * height, np.float32)\n",
    "# B5.readPixels(0,0,width,height,B5_pixels)\n",
    "\n",
    "# B6_pixels = np.zeros(width * height, np.float32)\n",
    "# B6.readPixels(0,0,width,height,B6_pixels)\n",
    "\n",
    "# B7_pixels = np.zeros(width * height, np.float32)\n",
    "# B7.readPixels(0,0,width,height,B7_pixels)\n",
    "\n",
    "# B8_pixels = np.zeros(width * height, np.float32)\n",
    "# B8.readPixels(0,0,width,height,B8_pixels)\n",
    "# # B8_pixels.flatten()\n",
    "\n",
    "# B8A_pixels = np.zeros(width * height, np.float32)\n",
    "# B8A.readPixels(0,0,width,height,B8A_pixels)\n",
    "\n",
    "# B11_pixels = np.zeros(width * height, np.float32)\n",
    "# B11.readPixels(0,0,width,height,B11_pixels)\n",
    "\n",
    "# B12_pixels = np.zeros(width * height, np.float32)\n",
    "# B12.readPixels(0,0,width,height,B12_pixels)"
   ]
  },
  {
   "cell_type": "code",
   "execution_count": 14,
   "metadata": {},
   "outputs": [
    {
     "name": "stdout",
     "output_type": "stream",
     "text": [
      "(654481,)\n",
      "(654481,)\n"
     ]
    }
   ],
   "source": [
    "print(water_veg_mask.shape)\n",
    "print(B2_pixels.shape)\n",
    "# print(B3_pixels.shape)\n",
    "# print(B8_pixels.shape)\n",
    "# print(B8_pixels.shape)"
   ]
  },
  {
   "cell_type": "code",
   "execution_count": 15,
   "metadata": {},
   "outputs": [],
   "source": [
    "df = pd.DataFrame({'B2':B2_pixels, \n",
    "#                    'B3': B3_pixels,\n",
    "#                    'B4': B4_pixels,\n",
    "#                    'B5': B5_pixels,\n",
    "#                    'B6': B6_pixels,\n",
    "#                    'B7': B7_pixels,\n",
    "#                    'B8': B8_pixels,\n",
    "#                    'B8A': B8A_pixels,\n",
    "#                    'B11': B11_pixels,\n",
    "#                    'B12': B12_pixels,\n",
    "                    'Y':water_veg_mask})\n",
    "#df.drop(df[df.X == 0].index,inplace=True)"
   ]
  },
  {
   "cell_type": "code",
   "execution_count": 16,
   "metadata": {},
   "outputs": [
    {
     "data": {
      "text/html": [
       "<div>\n",
       "<style scoped>\n",
       "    .dataframe tbody tr th:only-of-type {\n",
       "        vertical-align: middle;\n",
       "    }\n",
       "\n",
       "    .dataframe tbody tr th {\n",
       "        vertical-align: top;\n",
       "    }\n",
       "\n",
       "    .dataframe thead th {\n",
       "        text-align: right;\n",
       "    }\n",
       "</style>\n",
       "<table border=\"1\" class=\"dataframe\">\n",
       "  <thead>\n",
       "    <tr style=\"text-align: right;\">\n",
       "      <th></th>\n",
       "      <th>B2</th>\n",
       "      <th>Y</th>\n",
       "    </tr>\n",
       "  </thead>\n",
       "  <tbody>\n",
       "    <tr>\n",
       "      <th>0</th>\n",
       "      <td>0.1347</td>\n",
       "      <td>2</td>\n",
       "    </tr>\n",
       "    <tr>\n",
       "      <th>1</th>\n",
       "      <td>0.1435</td>\n",
       "      <td>2</td>\n",
       "    </tr>\n",
       "    <tr>\n",
       "      <th>2</th>\n",
       "      <td>0.1435</td>\n",
       "      <td>2</td>\n",
       "    </tr>\n",
       "    <tr>\n",
       "      <th>3</th>\n",
       "      <td>0.1892</td>\n",
       "      <td>0</td>\n",
       "    </tr>\n",
       "    <tr>\n",
       "      <th>4</th>\n",
       "      <td>0.1892</td>\n",
       "      <td>0</td>\n",
       "    </tr>\n",
       "  </tbody>\n",
       "</table>\n",
       "</div>"
      ],
      "text/plain": [
       "       B2  Y\n",
       "0  0.1347  2\n",
       "1  0.1435  2\n",
       "2  0.1435  2\n",
       "3  0.1892  0\n",
       "4  0.1892  0"
      ]
     },
     "execution_count": 16,
     "metadata": {},
     "output_type": "execute_result"
    }
   ],
   "source": [
    "df.head()"
   ]
  },
  {
   "cell_type": "code",
   "execution_count": 17,
   "metadata": {},
   "outputs": [],
   "source": [
    "x_cols = ['B2']\n"
   ]
  },
  {
   "cell_type": "code",
   "execution_count": 18,
   "metadata": {},
   "outputs": [],
   "source": [
    "# plt.subplots(figsize=(10,10))\n",
    "# sns.heatmap(df.corr(method='spearman'), annot=True, cmap='coolwarm')"
   ]
  },
  {
   "cell_type": "code",
   "execution_count": 19,
   "metadata": {},
   "outputs": [],
   "source": [
    "sample_0 = df.query('Y == 0').sample(counts[1])\n",
    "sample_1 = df.query('Y == 1').sample(counts[1])\n",
    "sample_2 = df.query('Y == 2').sample(counts[1])\n"
   ]
  },
  {
   "cell_type": "code",
   "execution_count": 20,
   "metadata": {},
   "outputs": [
    {
     "data": {
      "text/html": [
       "<div>\n",
       "<style scoped>\n",
       "    .dataframe tbody tr th:only-of-type {\n",
       "        vertical-align: middle;\n",
       "    }\n",
       "\n",
       "    .dataframe tbody tr th {\n",
       "        vertical-align: top;\n",
       "    }\n",
       "\n",
       "    .dataframe thead th {\n",
       "        text-align: right;\n",
       "    }\n",
       "</style>\n",
       "<table border=\"1\" class=\"dataframe\">\n",
       "  <thead>\n",
       "    <tr style=\"text-align: right;\">\n",
       "      <th></th>\n",
       "      <th>B2</th>\n",
       "      <th>Y</th>\n",
       "    </tr>\n",
       "  </thead>\n",
       "  <tbody>\n",
       "    <tr>\n",
       "      <th>count</th>\n",
       "      <td>29448.000000</td>\n",
       "      <td>29448.000000</td>\n",
       "    </tr>\n",
       "    <tr>\n",
       "      <th>mean</th>\n",
       "      <td>0.121268</td>\n",
       "      <td>0.500000</td>\n",
       "    </tr>\n",
       "    <tr>\n",
       "      <th>std</th>\n",
       "      <td>0.088372</td>\n",
       "      <td>0.500008</td>\n",
       "    </tr>\n",
       "    <tr>\n",
       "      <th>min</th>\n",
       "      <td>0.003400</td>\n",
       "      <td>0.000000</td>\n",
       "    </tr>\n",
       "    <tr>\n",
       "      <th>25%</th>\n",
       "      <td>0.042300</td>\n",
       "      <td>0.000000</td>\n",
       "    </tr>\n",
       "    <tr>\n",
       "      <th>50%</th>\n",
       "      <td>0.104400</td>\n",
       "      <td>0.500000</td>\n",
       "    </tr>\n",
       "    <tr>\n",
       "      <th>75%</th>\n",
       "      <td>0.194300</td>\n",
       "      <td>1.000000</td>\n",
       "    </tr>\n",
       "    <tr>\n",
       "      <th>max</th>\n",
       "      <td>0.607700</td>\n",
       "      <td>1.000000</td>\n",
       "    </tr>\n",
       "  </tbody>\n",
       "</table>\n",
       "</div>"
      ],
      "text/plain": [
       "                 B2             Y\n",
       "count  29448.000000  29448.000000\n",
       "mean       0.121268      0.500000\n",
       "std        0.088372      0.500008\n",
       "min        0.003400      0.000000\n",
       "25%        0.042300      0.000000\n",
       "50%        0.104400      0.500000\n",
       "75%        0.194300      1.000000\n",
       "max        0.607700      1.000000"
      ]
     },
     "execution_count": 20,
     "metadata": {},
     "output_type": "execute_result"
    }
   ],
   "source": [
    "sampled_df = pd.concat([sample_0, sample_1, sample_2],keys=['B2','Y'])\n",
    "sampled_df = sampled_df.sample(frac=1).reset_index(drop=True)\n",
    "sampled_df.describe()"
   ]
  },
  {
   "cell_type": "code",
   "execution_count": 21,
   "metadata": {},
   "outputs": [],
   "source": [
    "# sns.heatmap(sampled_df.corr(method='spearman'), annot=True, cmap='coolwarm')"
   ]
  },
  {
   "cell_type": "code",
   "execution_count": 22,
   "metadata": {},
   "outputs": [],
   "source": [
    "X_train,X_test_val,y_train,y_test_val = train_test_split(sampled_df[x_cols],sampled_df['Y'],test_size=0.4,random_state=1234, stratify = sampled_df['Y'])"
   ]
  },
  {
   "cell_type": "code",
   "execution_count": 23,
   "metadata": {},
   "outputs": [],
   "source": [
    "X_test,X_val, y_test, y_val = train_test_split(X_test_val,y_test_val,test_size=0.5,random_state=4321, stratify = y_test_val)"
   ]
  },
  {
   "cell_type": "code",
   "execution_count": 24,
   "metadata": {},
   "outputs": [],
   "source": [
    "def show_confusion_matrix(y_test, y_pred, score):    \n",
    "    cm = metrics.confusion_matrix(y_test, y_pred)\n",
    "    plt.figure(figsize=(9,9))\n",
    "    sns.heatmap(cm, annot=True, fmt=\".3f\", linewidths=.5, square = True, cmap = 'Blues_r');\n",
    "    plt.ylabel('Actual label');\n",
    "    plt.xlabel('Predicted label');\n",
    "    all_sample_title = 'Accuracy Score: {0}'.format(score)\n",
    "    plt.title(all_sample_title, size = 15);\n",
    "    return cm\n"
   ]
  },
  {
   "cell_type": "code",
   "execution_count": 25,
   "metadata": {},
   "outputs": [
    {
     "name": "stdout",
     "output_type": "stream",
     "text": [
      "Testing accuracy of Logistic Regression = 0.9726655348047538\n",
      "Validation accuracy of Logistic Regression = 0.9750424448217317\n"
     ]
    }
   ],
   "source": [
    "logisticRegr = LogisticRegression()\n",
    "logisticRegr.fit(X_train, y_train)\n",
    "lr_pred1 = logisticRegr.predict(X_test)\n",
    "lr_score = logisticRegr.score(X_test, y_test)\n",
    "print(f\"Testing accuracy of Logistic Regression = {lr_score}\")\n",
    "lr_pred2 = logisticRegr.predict(X_val)\n",
    "lr_val_score = logisticRegr.score(X_val, y_val)\n",
    "print(f\"Validation accuracy of Logistic Regression = {lr_val_score}\")"
   ]
  },
  {
   "cell_type": "code",
   "execution_count": 26,
   "metadata": {},
   "outputs": [
    {
     "data": {
      "image/png": "[encoded data removed]",
      "text/plain": [
       "<Figure size 648x648 with 2 Axes>"
      ]
     },
     "metadata": {
      "needs_background": "light"
     },
     "output_type": "display_data"
    }
   ],
   "source": [
    "cm = show_confusion_matrix(y_test = y_val, y_pred = lr_pred2, score = lr_val_score)"
   ]
  },
  {
   "cell_type": "code",
   "execution_count": 27,
   "metadata": {},
   "outputs": [
    {
     "name": "stdout",
     "output_type": "stream",
     "text": [
      "Kernel: rbf\n",
      "Testing Accuracy SVM: 0.9743633276740238\n",
      "validation Accuracy SVM: 0.9774193548387097\n"
     ]
    },
    {
     "data": {
      "image/png": "[encoded data removed]",
      "text/plain": [
       "<Figure size 648x648 with 2 Axes>"
      ]
     },
     "metadata": {
      "needs_background": "light"
     },
     "output_type": "display_data"
    }
   ],
   "source": [
    "kernels = ['rbf']\n",
    "for kernel in kernels:\n",
    "    clf = svm.SVC(kernel = kernel, C = 100000 )\n",
    "    clf.fit(X_train, y_train)\n",
    "    svm_y_pred1 = clf.predict(X_test)\n",
    "    print(\"Kernel:\",kernel)\n",
    "    svm_y_test_acc = metrics.accuracy_score(y_test, svm_y_pred1)\n",
    "    print(\"Testing Accuracy SVM:\",svm_y_test_acc)\n",
    "    svm_y_pred_val = clf.predict(X_val)\n",
    "    svm_y_val_acc = metrics.accuracy_score(y_val, svm_y_pred_val)\n",
    "    print(\"validation Accuracy SVM:\",svm_y_val_acc)\n",
    "    cm = show_confusion_matrix(y_test = y_val, y_pred = svm_y_pred_val, score = svm_y_val_acc)"
   ]
  },
  {
   "cell_type": "code",
   "execution_count": 28,
   "metadata": {},
   "outputs": [
    {
     "name": "stdout",
     "output_type": "stream",
     "text": [
      "Testing Gaussian Naive Bayes Accuracy: 0.9736842105263158\n",
      "Validation Accuracy GNB: 0.9779286926994907\n"
     ]
    },
    {
     "data": {
      "image/png": "[encoded data removed]",
      "text/plain": [
       "<Figure size 648x648 with 2 Axes>"
      ]
     },
     "metadata": {
      "needs_background": "light"
     },
     "output_type": "display_data"
    }
   ],
   "source": [
    "gnb = GaussianNB()\n",
    "gnb.fit(X_train, y_train)\n",
    "gnb_y_pred = gnb.predict(X_test)\n",
    "gnb_y_val = gnb.predict(X_val)\n",
    "gnb_y_test_acc = metrics.accuracy_score(y_test, gnb_y_pred)\n",
    "gnb_y_val_acc = metrics.accuracy_score(y_val, gnb_y_val)\n",
    "print(\"Testing Gaussian Naive Bayes Accuracy:\",gnb_y_test_acc)\n",
    "print(f\"Validation Accuracy GNB: {gnb_y_val_acc}\")\n",
    "cm = show_confusion_matrix(y_test = y_val, y_pred = gnb_y_val, score = gnb_y_val_acc)"
   ]
  },
  {
   "cell_type": "code",
   "execution_count": 29,
   "metadata": {},
   "outputs": [
    {
     "name": "stdout",
     "output_type": "stream",
     "text": [
      "Testing Accuracy of Random Forest classifier for 100 estimators = 0.9784380305602717\n",
      "Validation Accuracy of Random Forest classifier for 100 estimators = 0.9787775891341256\n"
     ]
    },
    {
     "data": {
      "image/png": "[encoded data removed]",
      "text/plain": [
       "<Figure size 648x648 with 2 Axes>"
      ]
     },
     "metadata": {
      "needs_background": "light"
     },
     "output_type": "display_data"
    }
   ],
   "source": [
    "est = 100\n",
    "rfc = RandomForestClassifier(n_estimators = est)\n",
    "rfc.fit(X_train, y_train) \n",
    "rfc_y_pred = rfc.predict(X_test) \n",
    "rfc_y_val = rfc.predict(X_val)\n",
    "rfc_y_test_acc = metrics.accuracy_score(y_test, rfc_y_pred)\n",
    "rfc_y_val_acc = metrics.accuracy_score(y_val, rfc_y_val)\n",
    "print(f\"Testing Accuracy of Random Forest classifier for {est} estimators = {rfc_y_test_acc}\")\n",
    "print(f\"Validation Accuracy of Random Forest classifier for {est} estimators = {rfc_y_val_acc}\")\n",
    "cm = show_confusion_matrix(y_test = y_val, y_pred = rfc_y_val, score = rfc_y_val_acc)"
   ]
  },
  {
   "cell_type": "code",
   "execution_count": 30,
   "metadata": {},
   "outputs": [
    {
     "name": "stdout",
     "output_type": "stream",
     "text": [
      "Testing Accuracy of 7 Nearest Neighbour classifier = 0.9731748726655348\n",
      "Validation Accuracy of 7 Nearest Neighbour classifier = 0.9755517826825127\n"
     ]
    },
    {
     "data": {
      "image/png": "[encoded data removed]",
      "text/plain": [
       "<Figure size 648x648 with 2 Axes>"
      ]
     },
     "metadata": {
      "needs_background": "light"
     },
     "output_type": "display_data"
    }
   ],
   "source": [
    "k = 7\n",
    "knn = KNeighborsClassifier(n_neighbors=k)\n",
    "knn.fit(X_train, y_train)\n",
    "knn_y_pred = knn.predict(X_test)\n",
    "knn_y_val = knn.predict(X_val)\n",
    "knn_y_test_acc = metrics.accuracy_score(y_test, knn_y_pred)\n",
    "knn_y_val_acc = metrics.accuracy_score(y_val, knn_y_val)\n",
    "print(f\"Testing Accuracy of {k} Nearest Neighbour classifier = {knn_y_test_acc}\")\n",
    "print(f\"Validation Accuracy of {k} Nearest Neighbour classifier = {knn_y_val_acc}\")\n",
    "cm = show_confusion_matrix(y_test = y_val, y_pred = knn_y_val, score = knn_y_val_acc)"
   ]
  },
  {
   "cell_type": "code",
   "execution_count": 31,
   "metadata": {},
   "outputs": [
    {
     "name": "stdout",
     "output_type": "stream",
     "text": [
      "Testing Accuracy of Decision Tree classifier = 0.9774193548387097\n",
      "Validation Accuracy of Decision Tree classifier = 0.9794567062818336\n"
     ]
    },
    {
     "data": {
      "image/png": "[encoded data removed]",
      "text/plain": [
       "<Figure size 648x648 with 2 Axes>"
      ]
     },
     "metadata": {
      "needs_background": "light"
     },
     "output_type": "display_data"
    }
   ],
   "source": [
    "dtc = tree.DecisionTreeClassifier()\n",
    "dtc.fit(X_train, y_train)\n",
    "dtc_y_pred = dtc.predict(X_test)\n",
    "dtc_y_val = dtc.predict(X_val)\n",
    "dtc_y_test_acc = metrics.accuracy_score(y_test, dtc_y_pred)\n",
    "dtc_y_val_acc = metrics.accuracy_score(y_val, dtc_y_val)\n",
    "print(f\"Testing Accuracy of Decision Tree classifier = {dtc_y_test_acc}\")\n",
    "print(f\"Validation Accuracy of Decision Tree classifier = {dtc_y_val_acc}\")\n",
    "cm = show_confusion_matrix(y_test = y_val, y_pred = dtc_y_val, score = dtc_y_val_acc)"
   ]
  },
  {
   "cell_type": "code",
   "execution_count": 32,
   "metadata": {},
   "outputs": [
    {
     "name": "stderr",
     "output_type": "stream",
     "text": [
      "C:\\Users\\gaurika-laptop\\Anaconda3\\envs\\snap2\\lib\\site-packages\\sklearn\\linear_model\\_stochastic_gradient.py:577: ConvergenceWarning: Maximum number of iteration reached before convergence. Consider increasing max_iter to improve the fit.\n",
      "  ConvergenceWarning)\n"
     ]
    },
    {
     "name": "stdout",
     "output_type": "stream",
     "text": [
      "Testing Accuracy of Stochastic Gradient Descent classifier| loss = modified_huber | penalty = l1| max iterations = 25|= 0.9748726655348048\n",
      "Validation Accuracy of Stochastic Gradient Descent classifier| loss = modified_huber | penalty = l1| max iterations = 25|= 0.9777589134125637\n"
     ]
    },
    {
     "data": {
      "image/png": "[encoded data removed]",
      "text/plain": [
       "<Figure size 648x648 with 2 Axes>"
      ]
     },
     "metadata": {
      "needs_background": "light"
     },
     "output_type": "display_data"
    }
   ],
   "source": [
    "loss = \"modified_huber\"\n",
    "penalty = \"l1\"\n",
    "max_iterations = 25\n",
    "sgdc = SGDClassifier(loss=loss, penalty=penalty, max_iter=max_iterations)\n",
    "sgdc.fit(X_train, y_train)\n",
    "sgdc_y_pred = sgdc.predict(X_test)\n",
    "sgdc_y_val = sgdc.predict(X_val)\n",
    "sgdc_y_test_acc = metrics.accuracy_score(y_test, sgdc_y_pred)\n",
    "sgdc_y_val_acc = metrics.accuracy_score(y_val, sgdc_y_val)\n",
    "print(f\"Testing Accuracy of Stochastic Gradient Descent classifier| loss = {loss} | penalty = {penalty}| max iterations = {max_iterations}|= {sgdc_y_test_acc}\")\n",
    "print(f\"Validation Accuracy of Stochastic Gradient Descent classifier| loss = {loss} | penalty = {penalty}| max iterations = {max_iterations}|= {sgdc_y_val_acc}\")\n",
    "cm = show_confusion_matrix(y_test = y_val, y_pred = sgdc_y_val, score = sgdc_y_val_acc)"
   ]
  },
  {
   "cell_type": "code",
   "execution_count": 33,
   "metadata": {},
   "outputs": [
    {
     "name": "stderr",
     "output_type": "stream",
     "text": [
      "C:\\Users\\gaurika-laptop\\Anaconda3\\envs\\snap2\\lib\\site-packages\\xgboost\\sklearn.py:1146: UserWarning: The use of label encoder in XGBClassifier is deprecated and will be removed in a future release. To remove this warning, do the following: 1) Pass option use_label_encoder=False when constructing XGBClassifier object; and 2) Encode your labels (y) as integers starting with 0, i.e. 0, 1, 2, ..., [num_class - 1].\n",
      "  warnings.warn(label_encoder_deprecation_msg, UserWarning)\n"
     ]
    },
    {
     "name": "stdout",
     "output_type": "stream",
     "text": [
      "[18:26:46] WARNING: C:/Users/Administrator/workspace/xgboost-win64_release_1.4.0/src/learner.cc:1095: Starting in XGBoost 1.3.0, the default evaluation metric used with the objective 'binary:logistic' was changed from 'error' to 'logloss'. Explicitly set eval_metric if you'd like to restore the old behavior.\n",
      "Testing Accuracy of XGBoost classifier = 97.45331069609507\n",
      "Validation Accuracy of XGBoost classifier = 97.70797962648557\n"
     ]
    },
    {
     "data": {
      "image/png": "[encoded data removed]",
      "text/plain": [
       "<Figure size 648x648 with 2 Axes>"
      ]
     },
     "metadata": {
      "needs_background": "light"
     },
     "output_type": "display_data"
    }
   ],
   "source": [
    "xgbc = XGBClassifier() \n",
    "xgbc.fit(X_train, y_train)\n",
    "xgbc_y_pred = xgbc.predict(X_test) \n",
    "xgbc_y_val = xgbc.predict(X_val) \n",
    "xgbc_predictions = [round(value) for value in xgbc_y_pred]\n",
    "xgbc_validations = [round(value) for value in xgbc_y_val]\n",
    "xgbc_accuracy_test = accuracy_score(y_test, xgbc_predictions) * 100.0\n",
    "xgbc_accuracy_val = accuracy_score(y_val, xgbc_validations) * 100.0\n",
    "# print(\"Accuracy: %.2f%%\" % (accuracy * 100.0))\n",
    "print(f\"Testing Accuracy of XGBoost classifier = {xgbc_accuracy_test}\")\n",
    "print(f\"Validation Accuracy of XGBoost classifier = {xgbc_accuracy_val}\")\n",
    "cm = show_confusion_matrix(y_test = y_val, y_pred = xgbc_validations, score = xgbc_accuracy_val)"
   ]
  },
  {
   "cell_type": "code",
   "execution_count": 34,
   "metadata": {},
   "outputs": [
    {
     "ename": "NameError",
     "evalue": "name 'to_categorical' is not defined",
     "output_type": "error",
     "traceback": [
      "\u001b[1;31m---------------------------------------------------------------------------\u001b[0m",
      "\u001b[1;31mNameError\u001b[0m                                 Traceback (most recent call last)",
      "\u001b[1;32m<ipython-input-34-9cc4132346c3>\u001b[0m in \u001b[0;36m<module>\u001b[1;34m\u001b[0m\n\u001b[1;32m----> 1\u001b[1;33m \u001b[0my_train\u001b[0m\u001b[1;33m=\u001b[0m \u001b[0mto_categorical\u001b[0m\u001b[1;33m(\u001b[0m\u001b[0my_train\u001b[0m\u001b[1;33m,\u001b[0m\u001b[0mnum_classes\u001b[0m\u001b[1;33m=\u001b[0m\u001b[1;36m3\u001b[0m\u001b[1;33m)\u001b[0m\u001b[1;33m\u001b[0m\u001b[1;33m\u001b[0m\u001b[0m\n\u001b[0m\u001b[0;32m      2\u001b[0m \u001b[0my_test\u001b[0m\u001b[1;33m=\u001b[0m \u001b[0mto_categorical\u001b[0m\u001b[1;33m(\u001b[0m\u001b[0my_test\u001b[0m\u001b[1;33m,\u001b[0m\u001b[0mnum_classes\u001b[0m\u001b[1;33m=\u001b[0m\u001b[1;36m3\u001b[0m\u001b[1;33m)\u001b[0m\u001b[1;33m\u001b[0m\u001b[1;33m\u001b[0m\u001b[0m\n\u001b[0;32m      3\u001b[0m \u001b[0my_val\u001b[0m \u001b[1;33m=\u001b[0m \u001b[0mto_categorical\u001b[0m\u001b[1;33m(\u001b[0m\u001b[0my_val\u001b[0m\u001b[1;33m,\u001b[0m\u001b[0mnum_classes\u001b[0m\u001b[1;33m=\u001b[0m\u001b[1;36m3\u001b[0m\u001b[1;33m)\u001b[0m\u001b[1;33m\u001b[0m\u001b[1;33m\u001b[0m\u001b[0m\n\u001b[0;32m      4\u001b[0m \u001b[0mprint\u001b[0m\u001b[1;33m(\u001b[0m\u001b[1;34m\"Shape of y_train\"\u001b[0m\u001b[1;33m,\u001b[0m\u001b[0my_train\u001b[0m\u001b[1;33m.\u001b[0m\u001b[0mshape\u001b[0m\u001b[1;33m)\u001b[0m\u001b[1;33m\u001b[0m\u001b[1;33m\u001b[0m\u001b[0m\n\u001b[0;32m      5\u001b[0m \u001b[0mprint\u001b[0m\u001b[1;33m(\u001b[0m\u001b[1;34m\"Shape of y_test\"\u001b[0m\u001b[1;33m,\u001b[0m\u001b[0my_test\u001b[0m\u001b[1;33m.\u001b[0m\u001b[0mshape\u001b[0m\u001b[1;33m)\u001b[0m\u001b[1;33m\u001b[0m\u001b[1;33m\u001b[0m\u001b[0m\n",
      "\u001b[1;31mNameError\u001b[0m: name 'to_categorical' is not defined"
     ]
    }
   ],
   "source": [
    "y_train= to_categorical(y_train,num_classes=3)\n",
    "y_test= to_categorical(y_test,num_classes=3)\n",
    "y_val = to_categorical(y_val,num_classes=3)\n",
    "print(\"Shape of y_train\",y_train.shape)\n",
    "print(\"Shape of y_test\",y_test.shape)\n",
    "print(\"Shape of y_val\",y_val.shape)"
   ]
  },
  {
   "cell_type": "code",
   "execution_count": null,
   "metadata": {},
   "outputs": [],
   "source": [
    "# # Multi layer perceptron\n",
    "# optimizer = Adam(lr=0.001)\n",
    "# model_mlp= keras.Sequential()\n",
    "# model_mlp.add(layers.Dense(4,input_dim=4))\n",
    "# model_mlp.add(layers.Dense(64))\n",
    "# model_mlp.add(layers.Dense(32))\n",
    "# model_mlp.add(layers.Dropout(0.4))\n",
    "# model_mlp.add(layers.Dense(3))\n",
    "# model_mlp.compile(loss='categorical_crossentropy',optimizer=keras.optimizers.Adam(0.001),metrics=['accuracy'])"
   ]
  },
  {
   "cell_type": "code",
   "execution_count": null,
   "metadata": {},
   "outputs": [],
   "source": [
    "# simple early stopping\n",
    "es = EarlyStopping(\n",
    "    monitor='val_loss', \n",
    "    patience=50, \n",
    "    min_delta=0.001, \n",
    "    restore_best_weights=True\n",
    ")\n",
    "# mc = ModelCheckpoint(filepath = r'.\\data\\best_model.h5', monitor='val_accuracy', mode='max', verbose=1, save_best_only=True)"
   ]
  },
  {
   "cell_type": "code",
   "execution_count": null,
   "metadata": {},
   "outputs": [],
   "source": [
    "# model_mlp.summary()"
   ]
  },
  {
   "cell_type": "code",
   "execution_count": null,
   "metadata": {},
   "outputs": [],
   "source": [
    "# history_mlp = model_mlp.fit(X_train,y_train,validation_data=(X_test,y_test),batch_size=32,epochs=200,verbose=1, callbacks = [es])"
   ]
  },
  {
   "cell_type": "code",
   "execution_count": null,
   "metadata": {},
   "outputs": [],
   "source": [
    "# saved_model = load_model(r'.\\data\\best_model.h5')"
   ]
  },
  {
   "cell_type": "code",
   "execution_count": null,
   "metadata": {},
   "outputs": [],
   "source": [
    "# prediction_mlp=model_mlp.predict(X_val)\n",
    "# length=len(prediction_mlp)\n",
    "# y_label=np.argmax(y_val,axis=1)\n",
    "# predict_label_mlp=np.argmax(prediction_mlp,axis=1)\n",
    "\n",
    "# accuracy_mlp=np.sum(y_label==predict_label_mlp)/length * 100 \n",
    "# print(\"Validation Accuracy of the multi layer perceptron\",accuracy_mlp )\n",
    "# cm = show_confusion_matrix(y_test = y_label, y_pred = predict_label_mlp, score = accuracy_mlp)"
   ]
  },
  {
   "cell_type": "code",
   "execution_count": null,
   "metadata": {},
   "outputs": [],
   "source": [
    "with tf.device('/gpu:0'):\n",
    "    inputs = keras.Input(shape=(10,))\n",
    "    dense_1 = layers.Dense(32, activation=\"elu\")\n",
    "    dense_2 = layers.Dense(32, activation=\"selu\")\n",
    "    dense_3 = layers.Dense(32, activation=\"relu\")\n",
    "    # dropout = layers.Dropout(0.4)\n",
    "    x = dense_1(inputs)\n",
    "    y = dense_2(inputs)\n",
    "    z = dense_3(inputs)\n",
    "    # x = layers.Dropout(0.4)(x)\n",
    "    x_skip = x\n",
    "    x = layers.Dropout(0.25)(x)\n",
    "    x = layers.Dense(32, activation=\"elu\")(x)\n",
    "    x = keras.layers.add([x,x_skip])\n",
    "\n",
    "    y_skip = y\n",
    "    y = layers.Dropout(0.25)(y)\n",
    "    y = layers.Dense(32, activation=\"selu\")(y)\n",
    "    y = keras.layers.add([y,y_skip])\n",
    "\n",
    "    z_skip = z\n",
    "    z = layers.Dropout(0.25)(z)\n",
    "    z = layers.Dense(32, activation=\"relu\")(z)\n",
    "    z = keras.layers.add([z, z_skip])\n",
    "\n",
    "    # x = layers.Dropout(0.4)(x)\n",
    "\n",
    "    x_skip = x\n",
    "    x = layers.Dropout(0.25)(x)\n",
    "    x = layers.Dense(32, activation=\"elu\")(x)\n",
    "    x = keras.layers.add([x,x_skip])\n",
    "\n",
    "    y_skip = y\n",
    "    y = layers.Dropout(0.25)(y)\n",
    "    y = layers.Dense(32, activation=\"selu\")(y)\n",
    "    y = keras.layers.add([y,y_skip])\n",
    "\n",
    "    z_skip = z\n",
    "    z = layers.Dropout(0.25)(z)\n",
    "    z = layers.Dense(32, activation=\"relu\")(z)\n",
    "    z = keras.layers.add([z, z_skip])\n",
    "\n",
    "\n",
    "    # x_skip = x\n",
    "    # x = layers.Dense(32, activation=\"elu\")(x)\n",
    "    # x = keras.layers.add([x,x_skip])\n",
    "    # y_skip = y\n",
    "    # y = layers.Dense(32, activation=\"selu\")(y)\n",
    "    # y = keras.layers.add([y,y_skip])\n",
    "    # x = layers.Dropout(0.4)(x)\n",
    "    # x_skip = x\n",
    "    # x = layers.Dense(128, activation=\"elu\")(x)\n",
    "    # x = keras.layers.add([x,x_skip])\n",
    "    # # x = layers.Dropout(0.4)(x)\n",
    "    # x_skip = x\n",
    "    # x = layers.Dense(128, activation=\"elu\")(x)\n",
    "    # x = keras.layers.add([x,x_skip])\n",
    "    # x = layers.Dropout(0.4)(x)\n",
    "    # x_skip = x\n",
    "    # x = layers.Dense(128, activation=\"elu\")(x)\n",
    "    # x = keras.layers.add([x,x_skip])\n",
    "    merge_1 = keras.layers.add([x,y])\n",
    "    merge_2 = keras.layers.add([y,z])\n",
    "    # x = layers.Dropout(0.4)(x)\n",
    "    outputs = layers.Dense(3, activation=\"softmax\")(keras.layers.add([merge_1,merge_2]))\n",
    "    model_keras = keras.Model(inputs=inputs, outputs=outputs, name=\"keras_v2_4band\")\n",
    "    \n",
    "    print(model_keras.summary())\n",
    "    \n",
    "    model_png = keras.utils.plot_model(\n",
    "        model_keras,\n",
    "        to_file=r'.\\data\\model_residual.png',\n",
    "        show_shapes=False,\n",
    "        show_layer_names=True,\n",
    "        rankdir=\"TB\",\n",
    "        expand_nested=False,\n",
    "        dpi=96,\n",
    "    )\n",
    "    \n",
    "    model_keras.compile(\n",
    "        loss=keras.losses.CategoricalCrossentropy(),\n",
    "        optimizer=keras.optimizers.Adam(),\n",
    "        metrics=[\"accuracy\"],\n",
    "    )\n"
   ]
  },
  {
   "cell_type": "code",
   "execution_count": null,
   "metadata": {},
   "outputs": [],
   "source": []
  },
  {
   "cell_type": "code",
   "execution_count": null,
   "metadata": {},
   "outputs": [],
   "source": []
  },
  {
   "cell_type": "code",
   "execution_count": null,
   "metadata": {},
   "outputs": [],
   "source": []
  },
  {
   "cell_type": "code",
   "execution_count": null,
   "metadata": {},
   "outputs": [],
   "source": [
    "with tf.device('/gpu:0'):\n",
    "    history_keras = model_keras.fit(X_train,y_train,validation_data=(X_test,y_test),batch_size=64,epochs=200,verbose=1, callbacks = [es])"
   ]
  },
  {
   "cell_type": "code",
   "execution_count": null,
   "metadata": {},
   "outputs": [],
   "source": [
    "with tf.device('/gpu:0'):\n",
    "    prediction_keras=model_keras.predict(X_val)\n",
    "    length=len(prediction_keras)\n",
    "    y_label=np.argmax(y_val,axis=1)\n",
    "    predict_label_keras=np.argmax(prediction_keras,axis=1)\n",
    "\n",
    "    accuracy_keras=np.sum(y_label==predict_label_keras)/length * 100 \n",
    "    print(\"Validation Accuracy of Neural Network\",accuracy_keras )\n",
    "    cm = show_confusion_matrix(y_test = y_label, y_pred = predict_label_keras, score = accuracy_keras)"
   ]
  },
  {
   "cell_type": "code",
   "execution_count": null,
   "metadata": {},
   "outputs": [],
   "source": []
  },
  {
   "cell_type": "code",
   "execution_count": null,
   "metadata": {},
   "outputs": [],
   "source": []
  }
 ],
 "metadata": {
  "kernelspec": {
   "display_name": "Python 3",
   "language": "python",
   "name": "python3"
  },
  "language_info": {
   "codemirror_mode": {
    "name": "ipython",
    "version": 3
   },
   "file_extension": ".py",
   "mimetype": "text/x-python",
   "name": "python",
   "nbconvert_exporter": "python",
   "pygments_lexer": "ipython3",
   "version": "3.6.13"
  }
 },
 "nbformat": 4,
 "nbformat_minor": 4
}
