{
 "cells": [
  {
   "cell_type": "code",
   "execution_count": 1,
   "id": "contained-mention",
   "metadata": {},
   "outputs": [],
   "source": [
    "import numpy as np\n",
    "import pickle\n",
    "import matplotlib.pyplot as plt\n",
    "import pandas as pd\n",
    "import seaborn as sns\n",
    "import snappy\n",
    "from sklearn.feature_selection import RFE, chi2, SelectKBest\n",
    "from sklearn.linear_model import LogisticRegression\n",
    "from sklearn.svm import LinearSVC\n",
    "from sklearn.model_selection import train_test_split\n",
    "from sklearn.ensemble import ExtraTreesClassifier, RandomForestClassifier\n",
    "from sklearn.decomposition import PCA\n",
    "from sklearn.preprocessing import StandardScaler\n",
    "import statsmodels.api as sm\n",
    "from sklearn.metrics import confusion_matrix,roc_auc_score,classification_report,roc_curve\n",
    "from mlxtend.feature_selection import ExhaustiveFeatureSelector"
   ]
  },
  {
   "cell_type": "code",
   "execution_count": null,
   "id": "southern-douglas",
   "metadata": {},
   "outputs": [],
   "source": []
  },
  {
   "cell_type": "code",
   "execution_count": 2,
   "id": "desirable-membrane",
   "metadata": {},
   "outputs": [],
   "source": [
    "mask_file = r'\\water_veg_mask'\n",
    "mask_path = r'F:\\workspace\\jupyterNotebooks\\Remote Sensing\\ISRO\\data'"
   ]
  },
  {
   "cell_type": "code",
   "execution_count": 3,
   "id": "frank-safety",
   "metadata": {},
   "outputs": [],
   "source": [
    "water_veg_mask = np.load(r'.\\data\\water_veg_mask.npy')"
   ]
  },
  {
   "cell_type": "code",
   "execution_count": 4,
   "id": "figured-hamburg",
   "metadata": {},
   "outputs": [
    {
     "name": "stdout",
     "output_type": "stream",
     "text": [
      "[0 1 2] [505368  14724 136008]\n"
     ]
    }
   ],
   "source": [
    "unique, counts = np.unique(water_veg_mask, return_counts=True)\n",
    "print(unique, counts)\n",
    "water_veg_mask = water_veg_mask.flatten()"
   ]
  },
  {
   "cell_type": "code",
   "execution_count": 7,
   "id": "sophisticated-brake",
   "metadata": {},
   "outputs": [],
   "source": [
    "product_path = r'D:\\SNAP\\POSTINGARSS\\final_S2A_MSIL2A_20190104T051211_N0211_R019_T43PGQ_20190104T094623_resampled.dim'"
   ]
  },
  {
   "cell_type": "code",
   "execution_count": 8,
   "id": "prescribed-technique",
   "metadata": {},
   "outputs": [],
   "source": [
    "product = snappy.ProductIO.readProduct(product_path)\n",
    "width = product.getSceneRasterWidth()\n",
    "height = product.getSceneRasterHeight()"
   ]
  },
  {
   "cell_type": "code",
   "execution_count": null,
   "id": "everyday-antarctica",
   "metadata": {},
   "outputs": [],
   "source": [
    "B2 = product.getBand('B2')\n",
    "B3 = product.getBand('B3')\n",
    "B4 = product.getBand('B4')\n",
    "B5 = product.getBand('B5')\n",
    "B6 = product.getBand('B6')\n",
    "B7 = product.getBand('B7')\n",
    "B8 = product.getBand('B8')\n",
    "B8A = product.getBand('B8A')\n",
    "B11 = product.getBand('B11')\n",
    "B12 = product.getBand('B12')"
   ]
  },
  {
   "cell_type": "code",
   "execution_count": null,
   "id": "monthly-positive",
   "metadata": {},
   "outputs": [],
   "source": [
    "B2_pixels = np.zeros(width * height, np.float32)\n",
    "B2.readPixels(0,0,width,height,B2_pixels)\n",
    "# B2_pixels.flatten()\n",
    "\n",
    "B3_pixels = np.zeros(width * height, np.float32)\n",
    "B3.readPixels(0,0,width,height,B3_pixels)\n",
    "# B3_pixels.flatten()\n",
    "\n",
    "B4_pixels = np.zeros(width * height, np.float32)\n",
    "B4.readPixels(0,0,width,height,B4_pixels)\n",
    "# B4_pixels.flatten()\n",
    "\n",
    "B5_pixels = np.zeros(width * height, np.float32)\n",
    "B5.readPixels(0,0,width,height,B5_pixels)\n",
    "\n",
    "B6_pixels = np.zeros(width * height, np.float32)\n",
    "B6.readPixels(0,0,width,height,B6_pixels)\n",
    "\n",
    "B7_pixels = np.zeros(width * height, np.float32)\n",
    "B7.readPixels(0,0,width,height,B7_pixels)\n",
    "\n",
    "B8_pixels = np.zeros(width * height, np.float32)\n",
    "B8.readPixels(0,0,width,height,B8_pixels)\n",
    "# B8_pixels.flatten()\n",
    "\n",
    "B8A_pixels = np.zeros(width * height, np.float32)\n",
    "B8A.readPixels(0,0,width,height,B8A_pixels)\n",
    "\n",
    "B11_pixels = np.zeros(width * height, np.float32)\n",
    "B11.readPixels(0,0,width,height,B11_pixels)\n",
    "\n",
    "B12_pixels = np.zeros(width * height, np.float32)\n",
    "B12.readPixels(0,0,width,height,B12_pixels)"
   ]
  },
  {
   "cell_type": "code",
   "execution_count": null,
   "id": "thrown-equivalent",
   "metadata": {},
   "outputs": [],
   "source": [
    "df = pd.DataFrame({'B2':B2_pixels, \n",
    "                   'B3': B3_pixels,\n",
    "                   'B4': B4_pixels,\n",
    "                   'B5': B5_pixels,\n",
    "                   'B6': B6_pixels,\n",
    "                   'B7': B7_pixels,\n",
    "                   'B8': B8_pixels,\n",
    "                   'B8A': B8A_pixels,\n",
    "                   'B11': B11_pixels,\n",
    "                   'B12': B12_pixels,\n",
    "                    'Y':water_veg_mask})"
   ]
  },
  {
   "cell_type": "code",
   "execution_count": null,
   "id": "silent-canada",
   "metadata": {},
   "outputs": [],
   "source": [
    "df.head()"
   ]
  },
  {
   "cell_type": "code",
   "execution_count": null,
   "id": "acute-kruger",
   "metadata": {},
   "outputs": [],
   "source": [
    "plt.subplots(figsize=(10,10))\n",
    "sns.heatmap(df.corr(method='kendall'), annot=True, cmap='coolwarm')"
   ]
  },
  {
   "cell_type": "code",
   "execution_count": null,
   "id": "ordered-notebook",
   "metadata": {},
   "outputs": [],
   "source": [
    "sample_0 = df.query('Y == 0').sample(counts[1])\n",
    "sample_1 = df.query('Y == 1').sample(counts[1])\n",
    "sample_2 = df.query('Y == 2').sample(counts[1])"
   ]
  },
  {
   "cell_type": "code",
   "execution_count": null,
   "id": "legendary-catalog",
   "metadata": {},
   "outputs": [],
   "source": [
    "sampled_df = pd.concat([sample_0, sample_1, sample_2],keys=['B2', 'B3', 'B4','B5','B6','B7', 'B8','B8A','B11','B12', 'Y'])\n",
    "sampled_df = sampled_df.sample(frac=1).reset_index(drop=True)\n",
    "sampled_df.describe()"
   ]
  },
  {
   "cell_type": "code",
   "execution_count": null,
   "id": "appreciated-drinking",
   "metadata": {},
   "outputs": [],
   "source": [
    "plt.subplots(figsize=(10,10))\n",
    "sns.heatmap(sampled_df.corr(method='kendall'), annot=True, cmap='coolwarm')"
   ]
  },
  {
   "cell_type": "code",
   "execution_count": null,
   "id": "chief-calibration",
   "metadata": {},
   "outputs": [],
   "source": [
    "x_cols = ['B2','B3','B4','B5','B6','B7', 'B8','B8A','B11','B12']"
   ]
  },
  {
   "cell_type": "code",
   "execution_count": null,
   "id": "third-plumbing",
   "metadata": {},
   "outputs": [],
   "source": [
    "X = df[x_cols]\n",
    "y = df['Y']"
   ]
  },
  {
   "cell_type": "code",
   "execution_count": null,
   "id": "hundred-virus",
   "metadata": {},
   "outputs": [],
   "source": [
    "# X_train,X_test_val,y_train,y_test_val = train_test_split(sampled_df[x_cols],sampled_df['Y'],test_size=0.4,random_state=1234, stratify = sampled_df['Y'])"
   ]
  },
  {
   "cell_type": "code",
   "execution_count": null,
   "id": "powerful-panic",
   "metadata": {},
   "outputs": [],
   "source": [
    "# X_test,X_val, y_test, y_val = train_test_split(X_test_val,y_test_val,test_size=0.5,random_state=4321, stratify = y_test_val)"
   ]
  },
  {
   "cell_type": "code",
   "execution_count": null,
   "id": "suffering-comfort",
   "metadata": {},
   "outputs": [],
   "source": [
    "logreg = LogisticRegression()\n",
    "svm = LinearSVC()\n",
    "etc = ExtraTreesClassifier()"
   ]
  },
  {
   "cell_type": "code",
   "execution_count": null,
   "id": "trying-production",
   "metadata": {},
   "outputs": [],
   "source": [
    "rfe = RFE(estimator=svm, n_features_to_select=1)\n",
    "rfe = rfe.fit(X, y.values.ravel())\n",
    "print(x_cols)\n",
    "print(rfe.support_)\n",
    "print(rfe.ranking_)"
   ]
  },
  {
   "cell_type": "code",
   "execution_count": null,
   "id": "novel-israel",
   "metadata": {},
   "outputs": [],
   "source": [
    "rfe = RFE(estimator=logreg, n_features_to_select=1)\n",
    "rfe = rfe.fit(X, y.values.ravel())\n",
    "print(x_cols)\n",
    "print(rfe.support_)\n",
    "print(rfe.ranking_)"
   ]
  },
  {
   "cell_type": "code",
   "execution_count": null,
   "id": "incorporated-length",
   "metadata": {},
   "outputs": [],
   "source": [
    "# unreliable\n",
    "etc.fit(X,y)\n",
    "print(etc.feature_importances_) #use inbuilt class feature_importances of tree based classifiers\n",
    "#plot graph of feature importances for better visualization\n",
    "feat_importances = pd.Series(etc.feature_importances_, index=X.columns)\n",
    "feat_importances.nlargest(10).plot(kind='barh')\n",
    "plt.show()"
   ]
  },
  {
   "cell_type": "code",
   "execution_count": null,
   "id": "focused-typing",
   "metadata": {},
   "outputs": [],
   "source": [
    "#apply SelectKBest class to extract top n best features\n",
    "n =10\n",
    "bestfeatures = SelectKBest(score_func=chi2, k=n)\n",
    "fit = bestfeatures.fit(X,y)\n",
    "dfscores = pd.DataFrame(fit.scores_)\n",
    "dfcolumns = pd.DataFrame(X.columns)\n",
    "#concat two dataframes for better visualization \n",
    "featureScores = pd.concat([dfcolumns,dfscores],axis=1)\n",
    "featureScores.columns = ['Specs','Score']  #naming the dataframe columns\n",
    "print(featureScores.nlargest(n,'Score'))  #print 10 best features"
   ]
  },
  {
   "cell_type": "code",
   "execution_count": null,
   "id": "decreased-warrant",
   "metadata": {},
   "outputs": [],
   "source": [
    "pca = PCA(n_components=4)\n",
    "# X = StandardScaler().fit_transform(X)\n",
    "principalComponents = pca.fit_transform(X)\n",
    "principalDf = pd.DataFrame(data = principalComponents\n",
    "             , columns = ['principal component 1', 'principal component 2','principal component 3','principal component 4'])\n",
    "finalDf = pd.concat([principalDf, df[['Y']]], axis = 1)"
   ]
  },
  {
   "cell_type": "code",
   "execution_count": null,
   "id": "included-david",
   "metadata": {},
   "outputs": [],
   "source": [
    "fig = plt.figure(figsize = (8,8))\n",
    "ax = fig.add_subplot(1,1,1) \n",
    "ax.set_xlabel('Principal Component 1', fontsize = 15)\n",
    "ax.set_ylabel('Principal Component 2', fontsize = 15)\n",
    "ax.set_title('2 component PCA', fontsize = 20)\n",
    "targets = [0,1,2]\n",
    "colors = ['r', 'b', 'g']\n",
    "for target, color in zip(targets,colors):\n",
    "    indicesToKeep = finalDf['Y'] == target\n",
    "    ax.scatter(finalDf.loc[indicesToKeep, 'principal component 1']\n",
    "               , finalDf.loc[indicesToKeep, 'principal component 2']\n",
    "               , c = color\n",
    "               , s = 50)\n",
    "ax.legend(targets)\n",
    "ax.grid()"
   ]
  },
  {
   "cell_type": "code",
   "execution_count": null,
   "id": "whole-liabilities",
   "metadata": {},
   "outputs": [],
   "source": [
    "pca.explained_variance_ratio_"
   ]
  },
  {
   "cell_type": "code",
   "execution_count": null,
   "id": "fatal-salon",
   "metadata": {},
   "outputs": [],
   "source": [
    "plt.plot(np.cumsum(pca.explained_variance_ratio_))\n",
    "plt.xlabel('number of components')\n",
    "plt.ylabel('cumulative explained variance');"
   ]
  },
  {
   "cell_type": "code",
   "execution_count": null,
   "id": "distinct-polls",
   "metadata": {},
   "outputs": [],
   "source": []
  }
 ],
 "metadata": {
  "kernelspec": {
   "display_name": "Python 3",
   "language": "python",
   "name": "python3"
  },
  "language_info": {
   "codemirror_mode": {
    "name": "ipython",
    "version": 3
   },
   "file_extension": ".py",
   "mimetype": "text/x-python",
   "name": "python",
   "nbconvert_exporter": "python",
   "pygments_lexer": "ipython3",
   "version": "3.6.13"
  }
 },
 "nbformat": 4,
 "nbformat_minor": 5
}
