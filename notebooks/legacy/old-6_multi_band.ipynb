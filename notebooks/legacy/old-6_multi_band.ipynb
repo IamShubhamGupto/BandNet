{
 "cells": [
  {
   "cell_type": "code",
   "execution_count": 1,
   "metadata": {},
   "outputs": [
    {
     "name": "stderr",
     "output_type": "stream",
     "text": [
      "C:\\Users\\Shubham\\AppData\\Roaming\\Python\\Python36\\site-packages\\requests\\__init__.py:91: RequestsDependencyWarning: urllib3 (1.26.3) or chardet (4.0.0) doesn't match a supported version!\n",
      "  RequestsDependencyWarning)\n"
     ]
    },
    {
     "name": "stdout",
     "output_type": "stream",
     "text": [
      "Num GPUs Available:  1\n"
     ]
    }
   ],
   "source": [
    "from sklearn import svm, metrics, tree\n",
    "from sklearn.naive_bayes import GaussianNB\n",
    "from sklearn.model_selection import train_test_split, cross_val_score\n",
    "from sklearn.linear_model import LogisticRegression, SGDClassifier\n",
    "\n",
    "from sklearn.ensemble import RandomForestClassifier\n",
    "from sklearn.neighbors import KNeighborsClassifier\n",
    "from sklearn.metrics import multilabel_confusion_matrix, accuracy_score\n",
    "import tensorflow as tf\n",
    "from tensorflow import keras\n",
    "from tensorflow.keras import layers, Sequential\n",
    "from tensorflow.keras.models import load_model\n",
    "from tensorflow.keras.layers import Dense,Activation,Dropout, MaxPooling1D, Conv1D, Flatten, BatchNormalization\n",
    "# from tensorflow.keras.layers.normalization import BatchNormalization \n",
    "from tensorflow.keras.callbacks import EarlyStopping\n",
    "from tensorflow.keras.optimizers import Adam\n",
    "from tensorflow.keras.utils import to_categorical\n",
    "from xgboost import XGBClassifier\n",
    "import numpy as np\n",
    "import pickle\n",
    "import matplotlib.pyplot as plt\n",
    "import pandas as pd\n",
    "import seaborn as sns\n",
    "import snappy\n",
    "print(\"Num GPUs Available: \", len(tf.config.list_physical_devices('GPU')))"
   ]
  },
  {
   "cell_type": "code",
   "execution_count": 2,
   "metadata": {},
   "outputs": [
    {
     "name": "stdout",
     "output_type": "stream",
     "text": [
      "WARNING:tensorflow:From <ipython-input-2-17bb7203622b>:1: is_gpu_available (from tensorflow.python.framework.test_util) is deprecated and will be removed in a future version.\n",
      "Instructions for updating:\n",
      "Use `tf.config.list_physical_devices('GPU')` instead.\n"
     ]
    },
    {
     "data": {
      "text/plain": [
       "True"
      ]
     },
     "execution_count": 2,
     "metadata": {},
     "output_type": "execute_result"
    }
   ],
   "source": [
    "tf.test.is_gpu_available()"
   ]
  },
  {
   "cell_type": "code",
   "execution_count": 3,
   "metadata": {},
   "outputs": [],
   "source": [
    "mask_file = r'\\water_veg_mask'\n",
    "mask_path = r'F:\\workspace\\jupyterNotebooks\\Remote Sensing\\ISRO\\data'"
   ]
  },
  {
   "cell_type": "code",
   "execution_count": 4,
   "metadata": {},
   "outputs": [],
   "source": [
    "water_veg_mask = np.load(r'.\\data\\water_veg_mask.npy')"
   ]
  },
  {
   "cell_type": "code",
   "execution_count": 5,
   "metadata": {},
   "outputs": [
    {
     "name": "stdout",
     "output_type": "stream",
     "text": [
      "[0 1 2] [505368  14724 136008]\n"
     ]
    }
   ],
   "source": [
    "unique, counts = np.unique(water_veg_mask, return_counts=True)\n",
    "print(unique, counts)\n",
    "water_veg_mask = water_veg_mask.flatten()"
   ]
  },
  {
   "cell_type": "code",
   "execution_count": 6,
   "metadata": {},
   "outputs": [],
   "source": [
    "# flag_0s = water_veg_mask == 0\n",
    "# flag_1s = water_veg_mask == 1\n",
    "# flag_2s = water_veg_mask == 2\n",
    "# mask_0 = water_veg_mask[flag_0s]\n",
    "# mask_1 = water_veg_mask[flag_1s]\n",
    "# mask_2 = water_veg_mask[flag_2s]\n"
   ]
  },
  {
   "cell_type": "code",
   "execution_count": 7,
   "metadata": {},
   "outputs": [],
   "source": [
    "# non_vegetated_data = np.random.choice(mask_0, size = len(mask_1), replace = False)\n",
    "# vegetated_data = np.random.choice(mask_2, size = len(mask_1), replace =False)\n",
    "# print(non_vegetated_data)\n",
    "# print(vegetated_data)\n",
    "# print(mask_1)"
   ]
  },
  {
   "cell_type": "code",
   "execution_count": 8,
   "metadata": {},
   "outputs": [],
   "source": [
    "product_path = r'F:\\SNAP\\POSTINGARSS\\final_S2A_MSIL2A_20190104T051211_N0211_R019_T43PGQ_20190104T094623_resampled.dim'"
   ]
  },
  {
   "cell_type": "code",
   "execution_count": 9,
   "metadata": {},
   "outputs": [],
   "source": [
    "product = snappy.ProductIO.readProduct(product_path)\n",
    "width = product.getSceneRasterWidth()\n",
    "height = product.getSceneRasterHeight()"
   ]
  },
  {
   "cell_type": "code",
   "execution_count": 10,
   "metadata": {},
   "outputs": [],
   "source": [
    "B2 = product.getBand('B2')\n",
    "B3 = product.getBand('B3')\n",
    "B4 = product.getBand('B4')\n",
    "B5 = product.getBand('B5')\n",
    "B6 = product.getBand('B6')\n",
    "B7 = product.getBand('B7')\n",
    "B8 = product.getBand('B8')\n",
    "B8A = product.getBand('B8A')\n",
    "B11 = product.getBand('B11')\n",
    "B12 = product.getBand('B12')"
   ]
  },
  {
   "cell_type": "code",
   "execution_count": 11,
   "metadata": {},
   "outputs": [
    {
     "data": {
      "text/plain": [
       "array([0.1364, 0.1364, 0.1508, ..., 0.2083, 0.2051, 0.2051], dtype=float32)"
      ]
     },
     "execution_count": 11,
     "metadata": {},
     "output_type": "execute_result"
    }
   ],
   "source": [
    "B2_pixels = np.zeros(width * height, np.float32)\n",
    "B2.readPixels(0,0,width,height,B2_pixels)\n",
    "# B2_pixels.flatten()\n",
    "\n",
    "B3_pixels = np.zeros(width * height, np.float32)\n",
    "B3.readPixels(0,0,width,height,B3_pixels)\n",
    "# B3_pixels.flatten()\n",
    "\n",
    "B4_pixels = np.zeros(width * height, np.float32)\n",
    "B4.readPixels(0,0,width,height,B4_pixels)\n",
    "# B4_pixels.flatten()\n",
    "\n",
    "B5_pixels = np.zeros(width * height, np.float32)\n",
    "B5.readPixels(0,0,width,height,B5_pixels)\n",
    "\n",
    "B6_pixels = np.zeros(width * height, np.float32)\n",
    "B6.readPixels(0,0,width,height,B6_pixels)\n",
    "\n",
    "B7_pixels = np.zeros(width * height, np.float32)\n",
    "B7.readPixels(0,0,width,height,B7_pixels)\n",
    "\n",
    "B8_pixels = np.zeros(width * height, np.float32)\n",
    "B8.readPixels(0,0,width,height,B8_pixels)\n",
    "# B8_pixels.flatten()\n",
    "\n",
    "B8A_pixels = np.zeros(width * height, np.float32)\n",
    "B8A.readPixels(0,0,width,height,B8A_pixels)\n",
    "\n",
    "B11_pixels = np.zeros(width * height, np.float32)\n",
    "B11.readPixels(0,0,width,height,B11_pixels)\n",
    "\n",
    "B12_pixels = np.zeros(width * height, np.float32)\n",
    "B12.readPixels(0,0,width,height,B12_pixels)"
   ]
  },
  {
   "cell_type": "code",
   "execution_count": 12,
   "metadata": {},
   "outputs": [
    {
     "name": "stdout",
     "output_type": "stream",
     "text": [
      "(656100,)\n",
      "(656100,)\n",
      "(656100,)\n",
      "(656100,)\n",
      "(656100,)\n"
     ]
    }
   ],
   "source": [
    "print(water_veg_mask.shape)\n",
    "print(B2_pixels.shape)\n",
    "print(B3_pixels.shape)\n",
    "print(B8_pixels.shape)\n",
    "print(B8_pixels.shape)"
   ]
  },
  {
   "cell_type": "code",
   "execution_count": 13,
   "metadata": {},
   "outputs": [],
   "source": [
    "df = pd.DataFrame({'B2':B2_pixels, \n",
    "                   'B3': B3_pixels,\n",
    "                   'B4': B4_pixels,\n",
    "                   'B5': B5_pixels,\n",
    "                   'B6': B6_pixels,\n",
    "                   'B7': B7_pixels,\n",
    "                   'B8': B8_pixels,\n",
    "                   'B8A': B8A_pixels,\n",
    "                   'B11': B11_pixels,\n",
    "                   'B12': B12_pixels,\n",
    "                    'Y':water_veg_mask})\n",
    "#df.drop(df[df.X == 0].index,inplace=True)"
   ]
  },
  {
   "cell_type": "code",
   "execution_count": 14,
   "metadata": {},
   "outputs": [
    {
     "data": {
      "text/html": [
       "<div>\n",
       "<style scoped>\n",
       "    .dataframe tbody tr th:only-of-type {\n",
       "        vertical-align: middle;\n",
       "    }\n",
       "\n",
       "    .dataframe tbody tr th {\n",
       "        vertical-align: top;\n",
       "    }\n",
       "\n",
       "    .dataframe thead th {\n",
       "        text-align: right;\n",
       "    }\n",
       "</style>\n",
       "<table border=\"1\" class=\"dataframe\">\n",
       "  <thead>\n",
       "    <tr style=\"text-align: right;\">\n",
       "      <th></th>\n",
       "      <th>B2</th>\n",
       "      <th>B3</th>\n",
       "      <th>B4</th>\n",
       "      <th>B5</th>\n",
       "      <th>B6</th>\n",
       "      <th>B7</th>\n",
       "      <th>B8</th>\n",
       "      <th>B8A</th>\n",
       "      <th>B11</th>\n",
       "      <th>B12</th>\n",
       "      <th>Y</th>\n",
       "    </tr>\n",
       "  </thead>\n",
       "  <tbody>\n",
       "    <tr>\n",
       "      <th>0</th>\n",
       "      <td>0.0902</td>\n",
       "      <td>0.0584</td>\n",
       "      <td>0.0475</td>\n",
       "      <td>0.0797</td>\n",
       "      <td>0.1435</td>\n",
       "      <td>0.2031</td>\n",
       "      <td>0.2136</td>\n",
       "      <td>0.2323</td>\n",
       "      <td>0.1830</td>\n",
       "      <td>0.1364</td>\n",
       "      <td>2</td>\n",
       "    </tr>\n",
       "    <tr>\n",
       "      <th>1</th>\n",
       "      <td>0.0929</td>\n",
       "      <td>0.0895</td>\n",
       "      <td>0.0861</td>\n",
       "      <td>0.0797</td>\n",
       "      <td>0.1435</td>\n",
       "      <td>0.2031</td>\n",
       "      <td>0.2517</td>\n",
       "      <td>0.2323</td>\n",
       "      <td>0.1830</td>\n",
       "      <td>0.1364</td>\n",
       "      <td>2</td>\n",
       "    </tr>\n",
       "    <tr>\n",
       "      <th>2</th>\n",
       "      <td>0.0511</td>\n",
       "      <td>0.0699</td>\n",
       "      <td>0.0750</td>\n",
       "      <td>0.1231</td>\n",
       "      <td>0.1893</td>\n",
       "      <td>0.1987</td>\n",
       "      <td>0.2202</td>\n",
       "      <td>0.2181</td>\n",
       "      <td>0.1993</td>\n",
       "      <td>0.1508</td>\n",
       "      <td>0</td>\n",
       "    </tr>\n",
       "    <tr>\n",
       "      <th>3</th>\n",
       "      <td>0.0354</td>\n",
       "      <td>0.0611</td>\n",
       "      <td>0.0641</td>\n",
       "      <td>0.1231</td>\n",
       "      <td>0.1893</td>\n",
       "      <td>0.1987</td>\n",
       "      <td>0.1861</td>\n",
       "      <td>0.2181</td>\n",
       "      <td>0.1993</td>\n",
       "      <td>0.1508</td>\n",
       "      <td>0</td>\n",
       "    </tr>\n",
       "    <tr>\n",
       "      <th>4</th>\n",
       "      <td>0.0738</td>\n",
       "      <td>0.1050</td>\n",
       "      <td>0.1272</td>\n",
       "      <td>0.1664</td>\n",
       "      <td>0.2092</td>\n",
       "      <td>0.2346</td>\n",
       "      <td>0.2534</td>\n",
       "      <td>0.2576</td>\n",
       "      <td>0.2749</td>\n",
       "      <td>0.2159</td>\n",
       "      <td>0</td>\n",
       "    </tr>\n",
       "  </tbody>\n",
       "</table>\n",
       "</div>"
      ],
      "text/plain": [
       "       B2      B3      B4      B5      B6      B7      B8     B8A     B11  \\\n",
       "0  0.0902  0.0584  0.0475  0.0797  0.1435  0.2031  0.2136  0.2323  0.1830   \n",
       "1  0.0929  0.0895  0.0861  0.0797  0.1435  0.2031  0.2517  0.2323  0.1830   \n",
       "2  0.0511  0.0699  0.0750  0.1231  0.1893  0.1987  0.2202  0.2181  0.1993   \n",
       "3  0.0354  0.0611  0.0641  0.1231  0.1893  0.1987  0.1861  0.2181  0.1993   \n",
       "4  0.0738  0.1050  0.1272  0.1664  0.2092  0.2346  0.2534  0.2576  0.2749   \n",
       "\n",
       "      B12  Y  \n",
       "0  0.1364  2  \n",
       "1  0.1364  2  \n",
       "2  0.1508  0  \n",
       "3  0.1508  0  \n",
       "4  0.2159  0  "
      ]
     },
     "execution_count": 14,
     "metadata": {},
     "output_type": "execute_result"
    }
   ],
   "source": [
    "df.head()"
   ]
  },
  {
   "cell_type": "code",
   "execution_count": 15,
   "metadata": {},
   "outputs": [],
   "source": [
    "x_cols = ['B2','B3','B4','B5','B6','B7','B8','B8A','B11','B12']\n"
   ]
  },
  {
   "cell_type": "code",
   "execution_count": 16,
   "metadata": {},
   "outputs": [],
   "source": [
    "# plt.subplots(figsize=(10,10))\n",
    "# sns.heatmap(df.corr(method='spearman'), annot=True, cmap='coolwarm')"
   ]
  },
  {
   "cell_type": "code",
   "execution_count": 17,
   "metadata": {},
   "outputs": [],
   "source": [
    "sample_0 = df.query('Y == 0').sample(counts[1])\n",
    "sample_1 = df.query('Y == 1').sample(counts[1])\n",
    "sample_2 = df.query('Y == 2').sample(counts[1])\n"
   ]
  },
  {
   "cell_type": "code",
   "execution_count": 18,
   "metadata": {},
   "outputs": [
    {
     "data": {
      "text/html": [
       "<div>\n",
       "<style scoped>\n",
       "    .dataframe tbody tr th:only-of-type {\n",
       "        vertical-align: middle;\n",
       "    }\n",
       "\n",
       "    .dataframe tbody tr th {\n",
       "        vertical-align: top;\n",
       "    }\n",
       "\n",
       "    .dataframe thead th {\n",
       "        text-align: right;\n",
       "    }\n",
       "</style>\n",
       "<table border=\"1\" class=\"dataframe\">\n",
       "  <thead>\n",
       "    <tr style=\"text-align: right;\">\n",
       "      <th></th>\n",
       "      <th>B2</th>\n",
       "      <th>B3</th>\n",
       "      <th>B4</th>\n",
       "      <th>B5</th>\n",
       "      <th>B6</th>\n",
       "      <th>B7</th>\n",
       "      <th>B8</th>\n",
       "      <th>B8A</th>\n",
       "      <th>B11</th>\n",
       "      <th>B12</th>\n",
       "      <th>Y</th>\n",
       "    </tr>\n",
       "  </thead>\n",
       "  <tbody>\n",
       "    <tr>\n",
       "      <th>count</th>\n",
       "      <td>44172.000000</td>\n",
       "      <td>44172.000000</td>\n",
       "      <td>44172.000000</td>\n",
       "      <td>44172.000000</td>\n",
       "      <td>44172.000000</td>\n",
       "      <td>44172.000000</td>\n",
       "      <td>44172.000000</td>\n",
       "      <td>44172.000000</td>\n",
       "      <td>44172.000000</td>\n",
       "      <td>44172.000000</td>\n",
       "      <td>44172.000000</td>\n",
       "    </tr>\n",
       "    <tr>\n",
       "      <th>mean</th>\n",
       "      <td>0.052008</td>\n",
       "      <td>0.078687</td>\n",
       "      <td>0.077056</td>\n",
       "      <td>0.108189</td>\n",
       "      <td>0.149508</td>\n",
       "      <td>0.164240</td>\n",
       "      <td>0.170971</td>\n",
       "      <td>0.171007</td>\n",
       "      <td>0.148918</td>\n",
       "      <td>0.106935</td>\n",
       "      <td>1.000000</td>\n",
       "    </tr>\n",
       "    <tr>\n",
       "      <th>std</th>\n",
       "      <td>0.039369</td>\n",
       "      <td>0.047302</td>\n",
       "      <td>0.064389</td>\n",
       "      <td>0.058797</td>\n",
       "      <td>0.093887</td>\n",
       "      <td>0.111161</td>\n",
       "      <td>0.123136</td>\n",
       "      <td>0.122396</td>\n",
       "      <td>0.110513</td>\n",
       "      <td>0.088317</td>\n",
       "      <td>0.816506</td>\n",
       "    </tr>\n",
       "    <tr>\n",
       "      <th>min</th>\n",
       "      <td>0.006400</td>\n",
       "      <td>0.015000</td>\n",
       "      <td>0.011900</td>\n",
       "      <td>0.013300</td>\n",
       "      <td>0.003400</td>\n",
       "      <td>0.000100</td>\n",
       "      <td>0.006300</td>\n",
       "      <td>0.000000</td>\n",
       "      <td>0.003800</td>\n",
       "      <td>0.002200</td>\n",
       "      <td>0.000000</td>\n",
       "    </tr>\n",
       "    <tr>\n",
       "      <th>25%</th>\n",
       "      <td>0.025900</td>\n",
       "      <td>0.046300</td>\n",
       "      <td>0.029100</td>\n",
       "      <td>0.063400</td>\n",
       "      <td>0.049500</td>\n",
       "      <td>0.043700</td>\n",
       "      <td>0.035000</td>\n",
       "      <td>0.030075</td>\n",
       "      <td>0.013700</td>\n",
       "      <td>0.010700</td>\n",
       "      <td>0.000000</td>\n",
       "    </tr>\n",
       "    <tr>\n",
       "      <th>50%</th>\n",
       "      <td>0.036600</td>\n",
       "      <td>0.062000</td>\n",
       "      <td>0.054600</td>\n",
       "      <td>0.092000</td>\n",
       "      <td>0.159100</td>\n",
       "      <td>0.178100</td>\n",
       "      <td>0.185500</td>\n",
       "      <td>0.191800</td>\n",
       "      <td>0.170300</td>\n",
       "      <td>0.103100</td>\n",
       "      <td>1.000000</td>\n",
       "    </tr>\n",
       "    <tr>\n",
       "      <th>75%</th>\n",
       "      <td>0.062300</td>\n",
       "      <td>0.093000</td>\n",
       "      <td>0.105600</td>\n",
       "      <td>0.139800</td>\n",
       "      <td>0.205800</td>\n",
       "      <td>0.227100</td>\n",
       "      <td>0.243800</td>\n",
       "      <td>0.242600</td>\n",
       "      <td>0.225100</td>\n",
       "      <td>0.168400</td>\n",
       "      <td>2.000000</td>\n",
       "    </tr>\n",
       "    <tr>\n",
       "      <th>max</th>\n",
       "      <td>0.451200</td>\n",
       "      <td>0.545600</td>\n",
       "      <td>0.582400</td>\n",
       "      <td>0.597100</td>\n",
       "      <td>0.578500</td>\n",
       "      <td>0.666500</td>\n",
       "      <td>0.689600</td>\n",
       "      <td>0.682900</td>\n",
       "      <td>0.709300</td>\n",
       "      <td>0.543600</td>\n",
       "      <td>2.000000</td>\n",
       "    </tr>\n",
       "  </tbody>\n",
       "</table>\n",
       "</div>"
      ],
      "text/plain": [
       "                 B2            B3            B4            B5            B6  \\\n",
       "count  44172.000000  44172.000000  44172.000000  44172.000000  44172.000000   \n",
       "mean       0.052008      0.078687      0.077056      0.108189      0.149508   \n",
       "std        0.039369      0.047302      0.064389      0.058797      0.093887   \n",
       "min        0.006400      0.015000      0.011900      0.013300      0.003400   \n",
       "25%        0.025900      0.046300      0.029100      0.063400      0.049500   \n",
       "50%        0.036600      0.062000      0.054600      0.092000      0.159100   \n",
       "75%        0.062300      0.093000      0.105600      0.139800      0.205800   \n",
       "max        0.451200      0.545600      0.582400      0.597100      0.578500   \n",
       "\n",
       "                 B7            B8           B8A           B11           B12  \\\n",
       "count  44172.000000  44172.000000  44172.000000  44172.000000  44172.000000   \n",
       "mean       0.164240      0.170971      0.171007      0.148918      0.106935   \n",
       "std        0.111161      0.123136      0.122396      0.110513      0.088317   \n",
       "min        0.000100      0.006300      0.000000      0.003800      0.002200   \n",
       "25%        0.043700      0.035000      0.030075      0.013700      0.010700   \n",
       "50%        0.178100      0.185500      0.191800      0.170300      0.103100   \n",
       "75%        0.227100      0.243800      0.242600      0.225100      0.168400   \n",
       "max        0.666500      0.689600      0.682900      0.709300      0.543600   \n",
       "\n",
       "                  Y  \n",
       "count  44172.000000  \n",
       "mean       1.000000  \n",
       "std        0.816506  \n",
       "min        0.000000  \n",
       "25%        0.000000  \n",
       "50%        1.000000  \n",
       "75%        2.000000  \n",
       "max        2.000000  "
      ]
     },
     "execution_count": 18,
     "metadata": {},
     "output_type": "execute_result"
    }
   ],
   "source": [
    "sampled_df = pd.concat([sample_0, sample_1, sample_2],keys=['B2','B3','B4','B5','B6','B7','B8','B8A','B11','B12', 'Y'])\n",
    "sampled_df = sampled_df.sample(frac=1).reset_index(drop=True)\n",
    "sampled_df.describe()"
   ]
  },
  {
   "cell_type": "code",
   "execution_count": 19,
   "metadata": {},
   "outputs": [],
   "source": [
    "# sns.heatmap(sampled_df.corr(method='spearman'), annot=True, cmap='coolwarm')"
   ]
  },
  {
   "cell_type": "code",
   "execution_count": 20,
   "metadata": {},
   "outputs": [],
   "source": [
    "X_train,X_test_val,y_train,y_test_val = train_test_split(sampled_df[x_cols],sampled_df['Y'],test_size=0.4,random_state=1234, stratify = sampled_df['Y'])"
   ]
  },
  {
   "cell_type": "code",
   "execution_count": 21,
   "metadata": {},
   "outputs": [],
   "source": [
    "X_test,X_val, y_test, y_val = train_test_split(X_test_val,y_test_val,test_size=0.5,random_state=4321, stratify = y_test_val)"
   ]
  },
  {
   "cell_type": "code",
   "execution_count": 22,
   "metadata": {},
   "outputs": [],
   "source": [
    "def show_confusion_matrix(y_test, y_pred, score):    \n",
    "    cm = metrics.confusion_matrix(y_test, y_pred)\n",
    "    plt.figure(figsize=(9,9))\n",
    "    sns.heatmap(cm, annot=True, fmt=\".3f\", linewidths=.5, square = True, cmap = 'Blues_r');\n",
    "    plt.ylabel('Actual label');\n",
    "    plt.xlabel('Predicted label');\n",
    "    all_sample_title = 'Accuracy Score: {0}'.format(score)\n",
    "    plt.title(all_sample_title, size = 15);\n",
    "    return cm\n"
   ]
  },
  {
   "cell_type": "code",
   "execution_count": 23,
   "metadata": {},
   "outputs": [
    {
     "name": "stdout",
     "output_type": "stream",
     "text": [
      "Testing accuracy of Logistic Regression = 0.9565315825220738\n",
      "Validation accuracy of Logistic Regression = 0.9507640067911715\n"
     ]
    },
    {
     "name": "stderr",
     "output_type": "stream",
     "text": [
      "F:\\ProgramData\\Anaconda3\\lib\\site-packages\\sklearn\\linear_model\\logistic.py:432: FutureWarning: Default solver will be changed to 'lbfgs' in 0.22. Specify a solver to silence this warning.\n",
      "  FutureWarning)\n",
      "F:\\ProgramData\\Anaconda3\\lib\\site-packages\\sklearn\\linear_model\\logistic.py:469: FutureWarning: Default multi_class will be changed to 'auto' in 0.22. Specify the multi_class option to silence this warning.\n",
      "  \"this warning.\", FutureWarning)\n"
     ]
    }
   ],
   "source": [
    "logisticRegr = LogisticRegression()\n",
    "logisticRegr.fit(X_train, y_train)\n",
    "lr_pred1 = logisticRegr.predict(X_test)\n",
    "lr_score = logisticRegr.score(X_test, y_test)\n",
    "print(f\"Testing accuracy of Logistic Regression = {lr_score}\")\n",
    "lr_pred2 = logisticRegr.predict(X_val)\n",
    "lr_val_score = logisticRegr.score(X_val, y_val)\n",
    "print(f\"Validation accuracy of Logistic Regression = {lr_val_score}\")"
   ]
  },
  {
   "cell_type": "code",
   "execution_count": 24,
   "metadata": {},
   "outputs": [
    {
     "data": {
      "image/png": "[encoded data removed]",
      "text/plain": [
       "<Figure size 648x648 with 2 Axes>"
      ]
     },
     "metadata": {
      "needs_background": "light"
     },
     "output_type": "display_data"
    }
   ],
   "source": [
    "cm = show_confusion_matrix(y_test = y_val, y_pred = lr_pred2, score = lr_val_score)"
   ]
  },
  {
   "cell_type": "code",
   "execution_count": 25,
   "metadata": {},
   "outputs": [
    {
     "name": "stderr",
     "output_type": "stream",
     "text": [
      "F:\\ProgramData\\Anaconda3\\lib\\site-packages\\sklearn\\svm\\base.py:193: FutureWarning: The default value of gamma will change from 'auto' to 'scale' in version 0.22 to account better for unscaled features. Set gamma explicitly to 'auto' or 'scale' to avoid this warning.\n",
      "  \"avoid this warning.\", FutureWarning)\n"
     ]
    },
    {
     "name": "stdout",
     "output_type": "stream",
     "text": [
      "Kernel: rbf\n",
      "Testing Accuracy SVM: 0.971473851030111\n",
      "validation Accuracy SVM: 0.9668364459535936\n"
     ]
    },
    {
     "data": {
      "image/png": "[encoded data removed]",
      "text/plain": [
       "<Figure size 648x648 with 2 Axes>"
      ]
     },
     "metadata": {
      "needs_background": "light"
     },
     "output_type": "display_data"
    }
   ],
   "source": [
    "kernels = ['rbf']\n",
    "for kernel in kernels:\n",
    "    clf = svm.SVC(kernel = kernel, C = 100000 )\n",
    "    clf.fit(X_train, y_train)\n",
    "    svm_y_pred1 = clf.predict(X_test)\n",
    "    print(\"Kernel:\",kernel)\n",
    "    svm_y_test_acc = metrics.accuracy_score(y_test, svm_y_pred1)\n",
    "    print(\"Testing Accuracy SVM:\",svm_y_test_acc)\n",
    "    svm_y_pred_val = clf.predict(X_val)\n",
    "    svm_y_val_acc = metrics.accuracy_score(y_val, svm_y_pred_val)\n",
    "    print(\"validation Accuracy SVM:\",svm_y_val_acc)\n",
    "    cm = show_confusion_matrix(y_test = y_val, y_pred = svm_y_pred_val, score = svm_y_val_acc)"
   ]
  },
  {
   "cell_type": "code",
   "execution_count": 26,
   "metadata": {},
   "outputs": [
    {
     "name": "stdout",
     "output_type": "stream",
     "text": [
      "Testing Gaussian Naive Bayes Accuracy: 0.9093275979171384\n",
      "Validation Accuracy GNB: 0.9032258064516129\n"
     ]
    },
    {
     "data": {
      "image/png": "[encoded data removed]",
      "text/plain": [
       "<Figure size 648x648 with 2 Axes>"
      ]
     },
     "metadata": {
      "needs_background": "light"
     },
     "output_type": "display_data"
    }
   ],
   "source": [
    "gnb = GaussianNB()\n",
    "gnb.fit(X_train, y_train)\n",
    "gnb_y_pred = gnb.predict(X_test)\n",
    "gnb_y_val = gnb.predict(X_val)\n",
    "gnb_y_test_acc = metrics.accuracy_score(y_test, gnb_y_pred)\n",
    "gnb_y_val_acc = metrics.accuracy_score(y_val, gnb_y_val)\n",
    "print(\"Testing Gaussian Naive Bayes Accuracy:\",gnb_y_test_acc)\n",
    "print(f\"Validation Accuracy GNB: {gnb_y_val_acc}\")\n",
    "cm = show_confusion_matrix(y_test = y_val, y_pred = gnb_y_val, score = gnb_y_val_acc)"
   ]
  },
  {
   "cell_type": "code",
   "execution_count": 27,
   "metadata": {},
   "outputs": [
    {
     "name": "stdout",
     "output_type": "stream",
     "text": [
      "Testing Accuracy of Random Forest classifier for 100 estimators = 0.971926647045506\n",
      "Validation Accuracy of Random Forest classifier for 100 estimators = 0.966044142614601\n"
     ]
    },
    {
     "data": {
      "image/png": "[encoded data removed]",
      "text/plain": [
       "<Figure size 648x648 with 2 Axes>"
      ]
     },
     "metadata": {
      "needs_background": "light"
     },
     "output_type": "display_data"
    }
   ],
   "source": [
    "est = 100\n",
    "rfc = RandomForestClassifier(n_estimators = est)\n",
    "rfc.fit(X_train, y_train) \n",
    "rfc_y_pred = rfc.predict(X_test) \n",
    "rfc_y_val = rfc.predict(X_val)\n",
    "rfc_y_test_acc = metrics.accuracy_score(y_test, rfc_y_pred)\n",
    "rfc_y_val_acc = metrics.accuracy_score(y_val, rfc_y_val)\n",
    "print(f\"Testing Accuracy of Random Forest classifier for {est} estimators = {rfc_y_test_acc}\")\n",
    "print(f\"Validation Accuracy of Random Forest classifier for {est} estimators = {rfc_y_val_acc}\")\n",
    "cm = show_confusion_matrix(y_test = y_val, y_pred = rfc_y_val, score = rfc_y_val_acc)"
   ]
  },
  {
   "cell_type": "code",
   "execution_count": 28,
   "metadata": {},
   "outputs": [
    {
     "name": "stdout",
     "output_type": "stream",
     "text": [
      "Testing Accuracy of 7 Nearest Neighbour classifier = 0.9668326918723116\n",
      "Validation Accuracy of 7 Nearest Neighbour classifier = 0.9593661573288059\n"
     ]
    },
    {
     "data": {
      "image/png": "[encoded data removed]",
      "text/plain": [
       "<Figure size 648x648 with 2 Axes>"
      ]
     },
     "metadata": {
      "needs_background": "light"
     },
     "output_type": "display_data"
    }
   ],
   "source": [
    "k = 7\n",
    "knn = KNeighborsClassifier(n_neighbors=k)\n",
    "knn.fit(X_train, y_train)\n",
    "knn_y_pred = knn.predict(X_test)\n",
    "knn_y_val = knn.predict(X_val)\n",
    "knn_y_test_acc = metrics.accuracy_score(y_test, knn_y_pred)\n",
    "knn_y_val_acc = metrics.accuracy_score(y_val, knn_y_val)\n",
    "print(f\"Testing Accuracy of {k} Nearest Neighbour classifier = {knn_y_test_acc}\")\n",
    "print(f\"Validation Accuracy of {k} Nearest Neighbour classifier = {knn_y_val_acc}\")\n",
    "cm = show_confusion_matrix(y_test = y_val, y_pred = knn_y_val, score = knn_y_val_acc)"
   ]
  },
  {
   "cell_type": "code",
   "execution_count": 29,
   "metadata": {},
   "outputs": [
    {
     "name": "stdout",
     "output_type": "stream",
     "text": [
      "Testing Accuracy of Decision Tree classifier = 0.9537016074258546\n",
      "Validation Accuracy of Decision Tree classifier = 0.9485002829654782\n"
     ]
    },
    {
     "data": {
      "image/png": "[encoded data removed]",
      "text/plain": [
       "<Figure size 648x648 with 2 Axes>"
      ]
     },
     "metadata": {
      "needs_background": "light"
     },
     "output_type": "display_data"
    }
   ],
   "source": [
    "dtc = tree.DecisionTreeClassifier()\n",
    "dtc.fit(X_train, y_train)\n",
    "dtc_y_pred = dtc.predict(X_test)\n",
    "dtc_y_val = dtc.predict(X_val)\n",
    "dtc_y_test_acc = metrics.accuracy_score(y_test, dtc_y_pred)\n",
    "dtc_y_val_acc = metrics.accuracy_score(y_val, dtc_y_val)\n",
    "print(f\"Testing Accuracy of Decision Tree classifier = {dtc_y_test_acc}\")\n",
    "print(f\"Validation Accuracy of Decision Tree classifier = {dtc_y_val_acc}\")\n",
    "cm = show_confusion_matrix(y_test = y_val, y_pred = dtc_y_val, score = dtc_y_val_acc)"
   ]
  },
  {
   "cell_type": "code",
   "execution_count": 30,
   "metadata": {},
   "outputs": [
    {
     "name": "stderr",
     "output_type": "stream",
     "text": [
      "F:\\ProgramData\\Anaconda3\\lib\\site-packages\\sklearn\\linear_model\\stochastic_gradient.py:561: ConvergenceWarning: Maximum number of iteration reached before convergence. Consider increasing max_iter to improve the fit.\n",
      "  ConvergenceWarning)\n"
     ]
    },
    {
     "name": "stdout",
     "output_type": "stream",
     "text": [
      "Testing Accuracy of Stochastic Gradient Descent classifier| loss = modified_huber | penalty = l1| max iterations = 25|= 0.9659270998415214\n",
      "Validation Accuracy of Stochastic Gradient Descent classifier| loss = modified_huber | penalty = l1| max iterations = 25|= 0.9625353706847765\n"
     ]
    },
    {
     "data": {
      "image/png": "[encoded data removed]",
      "text/plain": [
       "<Figure size 648x648 with 2 Axes>"
      ]
     },
     "metadata": {
      "needs_background": "light"
     },
     "output_type": "display_data"
    }
   ],
   "source": [
    "loss = \"modified_huber\"\n",
    "penalty = \"l1\"\n",
    "max_iterations = 25\n",
    "sgdc = SGDClassifier(loss=loss, penalty=penalty, max_iter=max_iterations)\n",
    "sgdc.fit(X_train, y_train)\n",
    "sgdc_y_pred = sgdc.predict(X_test)\n",
    "sgdc_y_val = sgdc.predict(X_val)\n",
    "sgdc_y_test_acc = metrics.accuracy_score(y_test, sgdc_y_pred)\n",
    "sgdc_y_val_acc = metrics.accuracy_score(y_val, sgdc_y_val)\n",
    "print(f\"Testing Accuracy of Stochastic Gradient Descent classifier| loss = {loss} | penalty = {penalty}| max iterations = {max_iterations}|= {sgdc_y_test_acc}\")\n",
    "print(f\"Validation Accuracy of Stochastic Gradient Descent classifier| loss = {loss} | penalty = {penalty}| max iterations = {max_iterations}|= {sgdc_y_val_acc}\")\n",
    "cm = show_confusion_matrix(y_test = y_val, y_pred = sgdc_y_val, score = sgdc_y_val_acc)"
   ]
  },
  {
   "cell_type": "code",
   "execution_count": 31,
   "metadata": {},
   "outputs": [
    {
     "name": "stderr",
     "output_type": "stream",
     "text": [
      "F:\\ProgramData\\Anaconda3\\lib\\site-packages\\xgboost\\sklearn.py:888: UserWarning: The use of label encoder in XGBClassifier is deprecated and will be removed in a future release. To remove this warning, do the following: 1) Pass option use_label_encoder=False when constructing XGBClassifier object; and 2) Encode your labels (y) as integers starting with 0, i.e. 0, 1, 2, ..., [num_class - 1].\n",
      "  warnings.warn(label_encoder_deprecation_msg, UserWarning)\n"
     ]
    },
    {
     "name": "stdout",
     "output_type": "stream",
     "text": [
      "[18:22:32] WARNING: C:/Users/Administrator/workspace/xgboost-win64_release_1.3.0/src/learner.cc:1061: Starting in XGBoost 1.3.0, the default evaluation metric used with the objective 'multi:softprob' was changed from 'merror' to 'mlogloss'. Explicitly set eval_metric if you'd like to restore the old behavior.\n",
      "Testing Accuracy of XGBoost classifier = 97.41906271224813\n",
      "Validation Accuracy of XGBoost classifier = 96.51386530843237\n"
     ]
    },
    {
     "data": {
      "image/png": "[encoded data removed]",
      "text/plain": [
       "<Figure size 648x648 with 2 Axes>"
      ]
     },
     "metadata": {
      "needs_background": "light"
     },
     "output_type": "display_data"
    }
   ],
   "source": [
    "xgbc = XGBClassifier() \n",
    "xgbc.fit(X_train, y_train)\n",
    "xgbc_y_pred = xgbc.predict(X_test) \n",
    "xgbc_y_val = xgbc.predict(X_val) \n",
    "xgbc_predictions = [round(value) for value in xgbc_y_pred]\n",
    "xgbc_validations = [round(value) for value in xgbc_y_val]\n",
    "xgbc_accuracy_test = accuracy_score(y_test, xgbc_predictions) * 100.0\n",
    "xgbc_accuracy_val = accuracy_score(y_val, xgbc_validations) * 100.0\n",
    "# print(\"Accuracy: %.2f%%\" % (accuracy * 100.0))\n",
    "print(f\"Testing Accuracy of XGBoost classifier = {xgbc_accuracy_test}\")\n",
    "print(f\"Validation Accuracy of XGBoost classifier = {xgbc_accuracy_val}\")\n",
    "cm = show_confusion_matrix(y_test = y_val, y_pred = xgbc_validations, score = xgbc_accuracy_val)"
   ]
  },
  {
   "cell_type": "code",
   "execution_count": 32,
   "metadata": {},
   "outputs": [
    {
     "name": "stdout",
     "output_type": "stream",
     "text": [
      "Shape of y_train (26503, 3)\n",
      "Shape of y_test (8834, 3)\n",
      "Shape of y_val (8835, 3)\n"
     ]
    }
   ],
   "source": [
    "y_train= to_categorical(y_train,num_classes=3)\n",
    "y_test= to_categorical(y_test,num_classes=3)\n",
    "y_val = to_categorical(y_val,num_classes=3)\n",
    "print(\"Shape of y_train\",y_train.shape)\n",
    "print(\"Shape of y_test\",y_test.shape)\n",
    "print(\"Shape of y_val\",y_val.shape)"
   ]
  },
  {
   "cell_type": "code",
   "execution_count": 33,
   "metadata": {},
   "outputs": [],
   "source": [
    "# # Multi layer perceptron\n",
    "# optimizer = Adam(lr=0.001)\n",
    "# model_mlp= keras.Sequential()\n",
    "# model_mlp.add(layers.Dense(4,input_dim=4))\n",
    "# model_mlp.add(layers.Dense(64))\n",
    "# model_mlp.add(layers.Dense(32))\n",
    "# model_mlp.add(layers.Dropout(0.4))\n",
    "# model_mlp.add(layers.Dense(3))\n",
    "# model_mlp.compile(loss='categorical_crossentropy',optimizer=keras.optimizers.Adam(0.001),metrics=['accuracy'])"
   ]
  },
  {
   "cell_type": "code",
   "execution_count": 34,
   "metadata": {},
   "outputs": [],
   "source": [
    "# simple early stopping\n",
    "es = EarlyStopping(\n",
    "    monitor='val_loss', \n",
    "    patience=50, \n",
    "    min_delta=0.001, \n",
    "    restore_best_weights=True\n",
    ")\n",
    "# mc = ModelCheckpoint(filepath = r'.\\data\\best_model.h5', monitor='val_accuracy', mode='max', verbose=1, save_best_only=True)"
   ]
  },
  {
   "cell_type": "code",
   "execution_count": 35,
   "metadata": {},
   "outputs": [],
   "source": [
    "# model_mlp.summary()"
   ]
  },
  {
   "cell_type": "code",
   "execution_count": 36,
   "metadata": {},
   "outputs": [],
   "source": [
    "# history_mlp = model_mlp.fit(X_train,y_train,validation_data=(X_test,y_test),batch_size=32,epochs=200,verbose=1, callbacks = [es])"
   ]
  },
  {
   "cell_type": "code",
   "execution_count": 37,
   "metadata": {},
   "outputs": [],
   "source": [
    "# saved_model = load_model(r'.\\data\\best_model.h5')"
   ]
  },
  {
   "cell_type": "code",
   "execution_count": 38,
   "metadata": {},
   "outputs": [],
   "source": [
    "# prediction_mlp=model_mlp.predict(X_val)\n",
    "# length=len(prediction_mlp)\n",
    "# y_label=np.argmax(y_val,axis=1)\n",
    "# predict_label_mlp=np.argmax(prediction_mlp,axis=1)\n",
    "\n",
    "# accuracy_mlp=np.sum(y_label==predict_label_mlp)/length * 100 \n",
    "# print(\"Validation Accuracy of the multi layer perceptron\",accuracy_mlp )\n",
    "# cm = show_confusion_matrix(y_test = y_label, y_pred = predict_label_mlp, score = accuracy_mlp)"
   ]
  },
  {
   "cell_type": "code",
   "execution_count": 41,
   "metadata": {},
   "outputs": [
    {
     "name": "stdout",
     "output_type": "stream",
     "text": [
      "Model: \"keras_v2\"\n",
      "__________________________________________________________________________________________________\n",
      "Layer (type)                    Output Shape         Param #     Connected to                     \n",
      "==================================================================================================\n",
      "input_2 (InputLayer)            [(None, 10)]         0                                            \n",
      "__________________________________________________________________________________________________\n",
      "dense_10 (Dense)                (None, 32)           352         input_2[0][0]                    \n",
      "__________________________________________________________________________________________________\n",
      "dense_11 (Dense)                (None, 32)           352         input_2[0][0]                    \n",
      "__________________________________________________________________________________________________\n",
      "dense_12 (Dense)                (None, 32)           352         input_2[0][0]                    \n",
      "__________________________________________________________________________________________________\n",
      "dropout_6 (Dropout)             (None, 32)           0           dense_10[0][0]                   \n",
      "__________________________________________________________________________________________________\n",
      "dropout_7 (Dropout)             (None, 32)           0           dense_11[0][0]                   \n",
      "__________________________________________________________________________________________________\n",
      "dropout_8 (Dropout)             (None, 32)           0           dense_12[0][0]                   \n",
      "__________________________________________________________________________________________________\n",
      "dense_13 (Dense)                (None, 32)           1056        dropout_6[0][0]                  \n",
      "__________________________________________________________________________________________________\n",
      "dense_14 (Dense)                (None, 32)           1056        dropout_7[0][0]                  \n",
      "__________________________________________________________________________________________________\n",
      "dense_15 (Dense)                (None, 32)           1056        dropout_8[0][0]                  \n",
      "__________________________________________________________________________________________________\n",
      "add_9 (Add)                     (None, 32)           0           dense_13[0][0]                   \n",
      "                                                                 dense_10[0][0]                   \n",
      "__________________________________________________________________________________________________\n",
      "add_10 (Add)                    (None, 32)           0           dense_14[0][0]                   \n",
      "                                                                 dense_11[0][0]                   \n",
      "__________________________________________________________________________________________________\n",
      "add_11 (Add)                    (None, 32)           0           dense_15[0][0]                   \n",
      "                                                                 dense_12[0][0]                   \n",
      "__________________________________________________________________________________________________\n",
      "dropout_9 (Dropout)             (None, 32)           0           add_9[0][0]                      \n",
      "__________________________________________________________________________________________________\n",
      "dropout_10 (Dropout)            (None, 32)           0           add_10[0][0]                     \n",
      "__________________________________________________________________________________________________\n",
      "dropout_11 (Dropout)            (None, 32)           0           add_11[0][0]                     \n",
      "__________________________________________________________________________________________________\n",
      "dense_16 (Dense)                (None, 32)           1056        dropout_9[0][0]                  \n",
      "__________________________________________________________________________________________________\n",
      "dense_17 (Dense)                (None, 32)           1056        dropout_10[0][0]                 \n",
      "__________________________________________________________________________________________________\n",
      "dense_18 (Dense)                (None, 32)           1056        dropout_11[0][0]                 \n",
      "__________________________________________________________________________________________________\n",
      "add_12 (Add)                    (None, 32)           0           dense_16[0][0]                   \n",
      "                                                                 add_9[0][0]                      \n",
      "__________________________________________________________________________________________________\n",
      "add_13 (Add)                    (None, 32)           0           dense_17[0][0]                   \n",
      "                                                                 add_10[0][0]                     \n",
      "__________________________________________________________________________________________________\n",
      "add_14 (Add)                    (None, 32)           0           dense_18[0][0]                   \n",
      "                                                                 add_11[0][0]                     \n",
      "__________________________________________________________________________________________________\n",
      "add_15 (Add)                    (None, 32)           0           add_12[0][0]                     \n",
      "                                                                 add_13[0][0]                     \n",
      "__________________________________________________________________________________________________\n",
      "add_16 (Add)                    (None, 32)           0           add_13[0][0]                     \n",
      "                                                                 add_14[0][0]                     \n",
      "__________________________________________________________________________________________________\n",
      "add_17 (Add)                    (None, 32)           0           add_15[0][0]                     \n",
      "                                                                 add_16[0][0]                     \n",
      "__________________________________________________________________________________________________\n",
      "dense_19 (Dense)                (None, 3)            99          add_17[0][0]                     \n",
      "==================================================================================================\n",
      "Total params: 7,491\n",
      "Trainable params: 7,491\n",
      "Non-trainable params: 0\n",
      "__________________________________________________________________________________________________\n",
      "None\n"
     ]
    }
   ],
   "source": [
    "with tf.device('/gpu:0'):\n",
    "    inputs = keras.Input(shape=(10,))\n",
    "    dense_1 = layers.Dense(32, activation=\"elu\")\n",
    "    dense_2 = layers.Dense(32, activation=\"selu\")\n",
    "    dense_3 = layers.Dense(32, activation=\"relu\")\n",
    "    # dropout = layers.Dropout(0.4)\n",
    "    x = dense_1(inputs)\n",
    "    y = dense_2(inputs)\n",
    "    z = dense_3(inputs)\n",
    "    # x = layers.Dropout(0.4)(x)\n",
    "    x_skip = x\n",
    "    x = layers.Dropout(0.25)(x)\n",
    "    x = layers.Dense(32, activation=\"elu\")(x)\n",
    "    x = keras.layers.add([x,x_skip])\n",
    "\n",
    "    y_skip = y\n",
    "    y = layers.Dropout(0.25)(y)\n",
    "    y = layers.Dense(32, activation=\"selu\")(y)\n",
    "    y = keras.layers.add([y,y_skip])\n",
    "\n",
    "    z_skip = z\n",
    "    z = layers.Dropout(0.25)(z)\n",
    "    z = layers.Dense(32, activation=\"relu\")(z)\n",
    "    z = keras.layers.add([z, z_skip])\n",
    "\n",
    "    # x = layers.Dropout(0.4)(x)\n",
    "\n",
    "    x_skip = x\n",
    "    x = layers.Dropout(0.25)(x)\n",
    "    x = layers.Dense(32, activation=\"elu\")(x)\n",
    "    x = keras.layers.add([x,x_skip])\n",
    "\n",
    "    y_skip = y\n",
    "    y = layers.Dropout(0.25)(y)\n",
    "    y = layers.Dense(32, activation=\"selu\")(y)\n",
    "    y = keras.layers.add([y,y_skip])\n",
    "\n",
    "    z_skip = z\n",
    "    z = layers.Dropout(0.25)(z)\n",
    "    z = layers.Dense(32, activation=\"relu\")(z)\n",
    "    z = keras.layers.add([z, z_skip])\n",
    "\n",
    "\n",
    "    # x_skip = x\n",
    "    # x = layers.Dense(32, activation=\"elu\")(x)\n",
    "    # x = keras.layers.add([x,x_skip])\n",
    "    # y_skip = y\n",
    "    # y = layers.Dense(32, activation=\"selu\")(y)\n",
    "    # y = keras.layers.add([y,y_skip])\n",
    "    # x = layers.Dropout(0.4)(x)\n",
    "    # x_skip = x\n",
    "    # x = layers.Dense(128, activation=\"elu\")(x)\n",
    "    # x = keras.layers.add([x,x_skip])\n",
    "    # # x = layers.Dropout(0.4)(x)\n",
    "    # x_skip = x\n",
    "    # x = layers.Dense(128, activation=\"elu\")(x)\n",
    "    # x = keras.layers.add([x,x_skip])\n",
    "    # x = layers.Dropout(0.4)(x)\n",
    "    # x_skip = x\n",
    "    # x = layers.Dense(128, activation=\"elu\")(x)\n",
    "    # x = keras.layers.add([x,x_skip])\n",
    "    merge_1 = keras.layers.add([x,y])\n",
    "    merge_2 = keras.layers.add([y,z])\n",
    "    # x = layers.Dropout(0.4)(x)\n",
    "    outputs = layers.Dense(3, activation=\"softmax\")(keras.layers.add([merge_1,merge_2]))\n",
    "    model_keras = keras.Model(inputs=inputs, outputs=outputs, name=\"keras_v2_4band\")\n",
    "    \n",
    "    print(model_keras.summary())\n",
    "    \n",
    "    model_png = keras.utils.plot_model(\n",
    "        model_keras,\n",
    "        to_file=r'.\\data\\model_residual.png',\n",
    "        show_shapes=False,\n",
    "        show_layer_names=True,\n",
    "        rankdir=\"TB\",\n",
    "        expand_nested=False,\n",
    "        dpi=96,\n",
    "    )\n",
    "    \n",
    "    model_keras.compile(\n",
    "        loss=keras.losses.CategoricalCrossentropy(),\n",
    "        optimizer=keras.optimizers.Adam(),\n",
    "        metrics=[\"accuracy\"],\n",
    "    )\n"
   ]
  },
  {
   "cell_type": "code",
   "execution_count": null,
   "metadata": {},
   "outputs": [],
   "source": []
  },
  {
   "cell_type": "code",
   "execution_count": null,
   "metadata": {},
   "outputs": [],
   "source": []
  },
  {
   "cell_type": "code",
   "execution_count": null,
   "metadata": {},
   "outputs": [],
   "source": []
  },
  {
   "cell_type": "code",
   "execution_count": 42,
   "metadata": {},
   "outputs": [
    {
     "name": "stdout",
     "output_type": "stream",
     "text": [
      "Train on 26503 samples, validate on 8834 samples\n",
      "Epoch 1/200\n",
      "26503/26503 [==============================] - 9s 338us/sample - loss: 0.1911 - accuracy: 0.9327 - val_loss: 0.1094 - val_accuracy: 0.9599\n",
      "Epoch 2/200\n",
      "26503/26503 [==============================] - 2s 92us/sample - loss: 0.1144 - accuracy: 0.9591 - val_loss: 0.1152 - val_accuracy: 0.9568\n",
      "Epoch 3/200\n",
      "26503/26503 [==============================] - 2s 89us/sample - loss: 0.1051 - accuracy: 0.9612 - val_loss: 0.1080 - val_accuracy: 0.9596\n",
      "Epoch 4/200\n",
      "26503/26503 [==============================] - 2s 89us/sample - loss: 0.1007 - accuracy: 0.9615 - val_loss: 0.0874 - val_accuracy: 0.9681\n",
      "Epoch 5/200\n",
      "26503/26503 [==============================] - 2s 88us/sample - loss: 0.0979 - accuracy: 0.9629 - val_loss: 0.0982 - val_accuracy: 0.9632\n",
      "Epoch 6/200\n",
      "26503/26503 [==============================] - 2s 90us/sample - loss: 0.0948 - accuracy: 0.9649 - val_loss: 0.0914 - val_accuracy: 0.9664\n",
      "Epoch 7/200\n",
      "26503/26503 [==============================] - 2s 90us/sample - loss: 0.0947 - accuracy: 0.9656 - val_loss: 0.0942 - val_accuracy: 0.9648\n",
      "Epoch 8/200\n",
      "26503/26503 [==============================] - 2s 91us/sample - loss: 0.0953 - accuracy: 0.9648 - val_loss: 0.0855 - val_accuracy: 0.9689\n",
      "Epoch 9/200\n",
      "26503/26503 [==============================] - 2s 91us/sample - loss: 0.0936 - accuracy: 0.9662 - val_loss: 0.0845 - val_accuracy: 0.9679\n",
      "Epoch 10/200\n",
      "26503/26503 [==============================] - 2s 91us/sample - loss: 0.0936 - accuracy: 0.9663 - val_loss: 0.0827 - val_accuracy: 0.9692\n",
      "Epoch 11/200\n",
      "26503/26503 [==============================] - 2s 91us/sample - loss: 0.0903 - accuracy: 0.9665 - val_loss: 0.0840 - val_accuracy: 0.9689\n",
      "Epoch 12/200\n",
      "26503/26503 [==============================] - 2s 91us/sample - loss: 0.0913 - accuracy: 0.9653 - val_loss: 0.0853 - val_accuracy: 0.9677\n",
      "Epoch 13/200\n",
      "26503/26503 [==============================] - 2s 90us/sample - loss: 0.0910 - accuracy: 0.9668 - val_loss: 0.0863 - val_accuracy: 0.9676\n",
      "Epoch 14/200\n",
      "26503/26503 [==============================] - 2s 90us/sample - loss: 0.0924 - accuracy: 0.9654 - val_loss: 0.0910 - val_accuracy: 0.9658\n",
      "Epoch 15/200\n",
      "26503/26503 [==============================] - 2s 93us/sample - loss: 0.0907 - accuracy: 0.9659 - val_loss: 0.0816 - val_accuracy: 0.9698\n",
      "Epoch 16/200\n",
      "26503/26503 [==============================] - 2s 91us/sample - loss: 0.0903 - accuracy: 0.9667 - val_loss: 0.0817 - val_accuracy: 0.9699\n",
      "Epoch 17/200\n",
      "26503/26503 [==============================] - 2s 91us/sample - loss: 0.0889 - accuracy: 0.9670 - val_loss: 0.1172 - val_accuracy: 0.9512\n",
      "Epoch 18/200\n",
      "26503/26503 [==============================] - 2s 90us/sample - loss: 0.0898 - accuracy: 0.9666 - val_loss: 0.0958 - val_accuracy: 0.9631\n",
      "Epoch 19/200\n",
      "26503/26503 [==============================] - 2s 92us/sample - loss: 0.0890 - accuracy: 0.9660 - val_loss: 0.0805 - val_accuracy: 0.9699\n",
      "Epoch 20/200\n",
      "26503/26503 [==============================] - 2s 91us/sample - loss: 0.0889 - accuracy: 0.9673 - val_loss: 0.0790 - val_accuracy: 0.9695\n",
      "Epoch 21/200\n",
      "26503/26503 [==============================] - 2s 90us/sample - loss: 0.0883 - accuracy: 0.9663 - val_loss: 0.0801 - val_accuracy: 0.9694\n",
      "Epoch 22/200\n",
      "26503/26503 [==============================] - 2s 90us/sample - loss: 0.0881 - accuracy: 0.9668 - val_loss: 0.0797 - val_accuracy: 0.9698\n",
      "Epoch 23/200\n",
      "26503/26503 [==============================] - 2s 89us/sample - loss: 0.0878 - accuracy: 0.9670 - val_loss: 0.0820 - val_accuracy: 0.9697\n",
      "Epoch 24/200\n",
      "26503/26503 [==============================] - 2s 90us/sample - loss: 0.0881 - accuracy: 0.9678 - val_loss: 0.0797 - val_accuracy: 0.9694\n",
      "Epoch 25/200\n",
      "26503/26503 [==============================] - 2s 91us/sample - loss: 0.0876 - accuracy: 0.9670 - val_loss: 0.0876 - val_accuracy: 0.9667\n",
      "Epoch 26/200\n",
      "26503/26503 [==============================] - 2s 91us/sample - loss: 0.0866 - accuracy: 0.9671 - val_loss: 0.0797 - val_accuracy: 0.9702\n",
      "Epoch 27/200\n",
      "26503/26503 [==============================] - 2s 90us/sample - loss: 0.0906 - accuracy: 0.9655 - val_loss: 0.0800 - val_accuracy: 0.9694\n",
      "Epoch 28/200\n",
      "26503/26503 [==============================] - 2s 90us/sample - loss: 0.0859 - accuracy: 0.9679 - val_loss: 0.0834 - val_accuracy: 0.9683\n",
      "Epoch 29/200\n",
      "26503/26503 [==============================] - 2s 91us/sample - loss: 0.0883 - accuracy: 0.9663 - val_loss: 0.0819 - val_accuracy: 0.9694\n",
      "Epoch 30/200\n",
      "26503/26503 [==============================] - 2s 91us/sample - loss: 0.0869 - accuracy: 0.9670 - val_loss: 0.0843 - val_accuracy: 0.9692\n",
      "Epoch 31/200\n",
      "26503/26503 [==============================] - 2s 92us/sample - loss: 0.0863 - accuracy: 0.9680 - val_loss: 0.0800 - val_accuracy: 0.9702\n",
      "Epoch 32/200\n",
      "26503/26503 [==============================] - 2s 92us/sample - loss: 0.0861 - accuracy: 0.9674 - val_loss: 0.0806 - val_accuracy: 0.9691\n",
      "Epoch 33/200\n",
      "26503/26503 [==============================] - 2s 92us/sample - loss: 0.0853 - accuracy: 0.9683 - val_loss: 0.0831 - val_accuracy: 0.9680\n",
      "Epoch 34/200\n",
      "26503/26503 [==============================] - 3s 94us/sample - loss: 0.0874 - accuracy: 0.9663 - val_loss: 0.0783 - val_accuracy: 0.9703\n",
      "Epoch 35/200\n",
      "26503/26503 [==============================] - 2s 93us/sample - loss: 0.0860 - accuracy: 0.9676 - val_loss: 0.0800 - val_accuracy: 0.9698\n",
      "Epoch 36/200\n",
      "26503/26503 [==============================] - 2s 94us/sample - loss: 0.0860 - accuracy: 0.9674 - val_loss: 0.0846 - val_accuracy: 0.9697\n",
      "Epoch 37/200\n",
      "26503/26503 [==============================] - 2s 92us/sample - loss: 0.0847 - accuracy: 0.9683 - val_loss: 0.0790 - val_accuracy: 0.9692\n",
      "Epoch 38/200\n",
      "26503/26503 [==============================] - 2s 92us/sample - loss: 0.0852 - accuracy: 0.9686 - val_loss: 0.0785 - val_accuracy: 0.9702\n",
      "Epoch 39/200\n",
      "26503/26503 [==============================] - 2s 93us/sample - loss: 0.0855 - accuracy: 0.9685 - val_loss: 0.0793 - val_accuracy: 0.9707\n",
      "Epoch 40/200\n",
      "26503/26503 [==============================] - 2s 93us/sample - loss: 0.0841 - accuracy: 0.9679 - val_loss: 0.0783 - val_accuracy: 0.9698\n",
      "Epoch 41/200\n",
      "26503/26503 [==============================] - 2s 94us/sample - loss: 0.0840 - accuracy: 0.9686 - val_loss: 0.0764 - val_accuracy: 0.9706\n",
      "Epoch 42/200\n",
      "26503/26503 [==============================] - 2s 92us/sample - loss: 0.0848 - accuracy: 0.9680 - val_loss: 0.0816 - val_accuracy: 0.9688\n",
      "Epoch 43/200\n",
      "26503/26503 [==============================] - 3s 94us/sample - loss: 0.0850 - accuracy: 0.9672 - val_loss: 0.0827 - val_accuracy: 0.9689\n",
      "Epoch 44/200\n",
      "26503/26503 [==============================] - 2s 92us/sample - loss: 0.0846 - accuracy: 0.9682 - val_loss: 0.0771 - val_accuracy: 0.9703\n",
      "Epoch 45/200\n",
      "26503/26503 [==============================] - 2s 94us/sample - loss: 0.0848 - accuracy: 0.9668 - val_loss: 0.0775 - val_accuracy: 0.9703\n",
      "Epoch 46/200\n",
      "26503/26503 [==============================] - 2s 94us/sample - loss: 0.0838 - accuracy: 0.9676 - val_loss: 0.0768 - val_accuracy: 0.9701\n",
      "Epoch 47/200\n",
      "26503/26503 [==============================] - 2s 93us/sample - loss: 0.0839 - accuracy: 0.9691 - val_loss: 0.0756 - val_accuracy: 0.9708\n",
      "Epoch 48/200\n",
      "26503/26503 [==============================] - 2s 92us/sample - loss: 0.0838 - accuracy: 0.9683 - val_loss: 0.0790 - val_accuracy: 0.9701\n",
      "Epoch 49/200\n",
      "26503/26503 [==============================] - 2s 92us/sample - loss: 0.0841 - accuracy: 0.9674 - val_loss: 0.0757 - val_accuracy: 0.9706\n",
      "Epoch 50/200\n",
      "26503/26503 [==============================] - 2s 92us/sample - loss: 0.0850 - accuracy: 0.9673 - val_loss: 0.0791 - val_accuracy: 0.9695\n",
      "Epoch 51/200\n",
      "26503/26503 [==============================] - 2s 93us/sample - loss: 0.0839 - accuracy: 0.9681 - val_loss: 0.0788 - val_accuracy: 0.9691\n",
      "Epoch 52/200\n",
      "26503/26503 [==============================] - 2s 94us/sample - loss: 0.0842 - accuracy: 0.9682 - val_loss: 0.0785 - val_accuracy: 0.9707\n",
      "Epoch 53/200\n",
      "26503/26503 [==============================] - 3s 94us/sample - loss: 0.0824 - accuracy: 0.9696 - val_loss: 0.0801 - val_accuracy: 0.9686\n",
      "Epoch 54/200\n",
      "26503/26503 [==============================] - 2s 94us/sample - loss: 0.0845 - accuracy: 0.9682 - val_loss: 0.0800 - val_accuracy: 0.9695\n"
     ]
    },
    {
     "name": "stdout",
     "output_type": "stream",
     "text": [
      "Epoch 55/200\n",
      "26503/26503 [==============================] - 2s 90us/sample - loss: 0.0838 - accuracy: 0.9690 - val_loss: 0.0786 - val_accuracy: 0.9703\n",
      "Epoch 56/200\n",
      "26503/26503 [==============================] - 2s 90us/sample - loss: 0.0845 - accuracy: 0.9676 - val_loss: 0.0796 - val_accuracy: 0.9697\n",
      "Epoch 57/200\n",
      "26503/26503 [==============================] - 2s 89us/sample - loss: 0.0813 - accuracy: 0.9683 - val_loss: 0.0783 - val_accuracy: 0.9698\n",
      "Epoch 58/200\n",
      "26503/26503 [==============================] - 2s 90us/sample - loss: 0.0833 - accuracy: 0.9682 - val_loss: 0.0763 - val_accuracy: 0.9708\n",
      "Epoch 59/200\n",
      "26503/26503 [==============================] - 2s 88us/sample - loss: 0.0825 - accuracy: 0.9686 - val_loss: 0.0809 - val_accuracy: 0.9688\n",
      "Epoch 60/200\n",
      "26503/26503 [==============================] - 2s 90us/sample - loss: 0.0825 - accuracy: 0.9677 - val_loss: 0.0770 - val_accuracy: 0.9717\n",
      "Epoch 61/200\n",
      "26503/26503 [==============================] - 2s 89us/sample - loss: 0.0822 - accuracy: 0.9686 - val_loss: 0.0855 - val_accuracy: 0.9680\n",
      "Epoch 62/200\n",
      "26503/26503 [==============================] - 2s 89us/sample - loss: 0.0824 - accuracy: 0.9678 - val_loss: 0.0817 - val_accuracy: 0.9692\n",
      "Epoch 63/200\n",
      "26503/26503 [==============================] - 2s 90us/sample - loss: 0.0822 - accuracy: 0.9692 - val_loss: 0.0831 - val_accuracy: 0.9684\n",
      "Epoch 64/200\n",
      "26503/26503 [==============================] - 2s 89us/sample - loss: 0.0836 - accuracy: 0.9688 - val_loss: 0.0746 - val_accuracy: 0.9712\n",
      "Epoch 65/200\n",
      "26503/26503 [==============================] - 2s 89us/sample - loss: 0.0818 - accuracy: 0.9692 - val_loss: 0.0802 - val_accuracy: 0.9690\n",
      "Epoch 66/200\n",
      "26503/26503 [==============================] - 2s 90us/sample - loss: 0.0823 - accuracy: 0.9689 - val_loss: 0.0764 - val_accuracy: 0.9709\n",
      "Epoch 67/200\n",
      "26503/26503 [==============================] - 2s 89us/sample - loss: 0.0821 - accuracy: 0.9686 - val_loss: 0.0791 - val_accuracy: 0.9697\n",
      "Epoch 68/200\n",
      "26503/26503 [==============================] - 2s 91us/sample - loss: 0.0806 - accuracy: 0.9703 - val_loss: 0.0767 - val_accuracy: 0.9703\n",
      "Epoch 69/200\n",
      "26503/26503 [==============================] - 2s 91us/sample - loss: 0.0828 - accuracy: 0.9686 - val_loss: 0.0785 - val_accuracy: 0.9697\n",
      "Epoch 70/200\n",
      "26503/26503 [==============================] - 2s 89us/sample - loss: 0.0829 - accuracy: 0.9682 - val_loss: 0.0766 - val_accuracy: 0.9699\n",
      "Epoch 71/200\n",
      "26503/26503 [==============================] - 2s 92us/sample - loss: 0.0818 - accuracy: 0.9682 - val_loss: 0.0743 - val_accuracy: 0.9714\n",
      "Epoch 72/200\n",
      "26503/26503 [==============================] - 2s 90us/sample - loss: 0.0824 - accuracy: 0.9686 - val_loss: 0.0780 - val_accuracy: 0.9694\n",
      "Epoch 73/200\n",
      "26503/26503 [==============================] - 2s 90us/sample - loss: 0.0810 - accuracy: 0.9684 - val_loss: 0.0797 - val_accuracy: 0.9697\n",
      "Epoch 74/200\n",
      "26503/26503 [==============================] - 2s 92us/sample - loss: 0.0822 - accuracy: 0.9695 - val_loss: 0.0761 - val_accuracy: 0.9702\n",
      "Epoch 75/200\n",
      "26503/26503 [==============================] - 2s 92us/sample - loss: 0.0804 - accuracy: 0.9690 - val_loss: 0.0803 - val_accuracy: 0.9698\n",
      "Epoch 76/200\n",
      "26503/26503 [==============================] - 2s 90us/sample - loss: 0.0825 - accuracy: 0.9691 - val_loss: 0.0846 - val_accuracy: 0.9675\n",
      "Epoch 77/200\n",
      "26503/26503 [==============================] - 2s 90us/sample - loss: 0.0815 - accuracy: 0.9691 - val_loss: 0.0792 - val_accuracy: 0.9688\n",
      "Epoch 78/200\n",
      "26503/26503 [==============================] - 2s 90us/sample - loss: 0.0816 - accuracy: 0.9694 - val_loss: 0.0774 - val_accuracy: 0.9698\n",
      "Epoch 79/200\n",
      "26503/26503 [==============================] - 2s 88us/sample - loss: 0.0824 - accuracy: 0.9683 - val_loss: 0.0846 - val_accuracy: 0.9673\n",
      "Epoch 80/200\n",
      "26503/26503 [==============================] - 2s 91us/sample - loss: 0.0805 - accuracy: 0.9696 - val_loss: 0.0756 - val_accuracy: 0.9708\n",
      "Epoch 81/200\n",
      "26503/26503 [==============================] - 2s 90us/sample - loss: 0.0801 - accuracy: 0.9702 - val_loss: 0.0835 - val_accuracy: 0.9679\n",
      "Epoch 82/200\n",
      "26503/26503 [==============================] - 2s 91us/sample - loss: 0.0803 - accuracy: 0.9689 - val_loss: 0.0758 - val_accuracy: 0.9707\n",
      "Epoch 83/200\n",
      "26503/26503 [==============================] - 2s 91us/sample - loss: 0.0806 - accuracy: 0.9693 - val_loss: 0.0748 - val_accuracy: 0.9706\n",
      "Epoch 84/200\n",
      "26503/26503 [==============================] - 2s 90us/sample - loss: 0.0811 - accuracy: 0.9692 - val_loss: 0.0765 - val_accuracy: 0.9698\n",
      "Epoch 85/200\n",
      "26503/26503 [==============================] - 2s 90us/sample - loss: 0.0798 - accuracy: 0.9687 - val_loss: 0.0756 - val_accuracy: 0.9717\n",
      "Epoch 86/200\n",
      "26503/26503 [==============================] - 2s 90us/sample - loss: 0.0816 - accuracy: 0.9682 - val_loss: 0.0787 - val_accuracy: 0.9694\n",
      "Epoch 87/200\n",
      "26503/26503 [==============================] - 2s 89us/sample - loss: 0.0803 - accuracy: 0.9681 - val_loss: 0.0750 - val_accuracy: 0.9707\n",
      "Epoch 88/200\n",
      "26503/26503 [==============================] - 2s 90us/sample - loss: 0.0816 - accuracy: 0.9690 - val_loss: 0.0840 - val_accuracy: 0.9652\n",
      "Epoch 89/200\n",
      "26503/26503 [==============================] - 2s 92us/sample - loss: 0.0802 - accuracy: 0.9695 - val_loss: 0.0770 - val_accuracy: 0.9694\n",
      "Epoch 90/200\n",
      "26503/26503 [==============================] - 2s 92us/sample - loss: 0.0807 - accuracy: 0.9697 - val_loss: 0.0778 - val_accuracy: 0.9698\n",
      "Epoch 91/200\n",
      "26503/26503 [==============================] - 2s 90us/sample - loss: 0.0816 - accuracy: 0.9690 - val_loss: 0.0809 - val_accuracy: 0.9679\n",
      "Epoch 92/200\n",
      "26503/26503 [==============================] - 2s 91us/sample - loss: 0.0815 - accuracy: 0.9689 - val_loss: 0.0748 - val_accuracy: 0.9712\n",
      "Epoch 93/200\n",
      "26503/26503 [==============================] - 2s 92us/sample - loss: 0.0807 - accuracy: 0.9692 - val_loss: 0.0825 - val_accuracy: 0.9679\n",
      "Epoch 94/200\n",
      "26503/26503 [==============================] - 3s 96us/sample - loss: 0.0807 - accuracy: 0.9691 - val_loss: 0.0754 - val_accuracy: 0.9702\n",
      "Epoch 95/200\n",
      "26503/26503 [==============================] - 3s 98us/sample - loss: 0.0813 - accuracy: 0.9694 - val_loss: 0.0753 - val_accuracy: 0.9706\n",
      "Epoch 96/200\n",
      "26503/26503 [==============================] - 3s 100us/sample - loss: 0.0797 - accuracy: 0.9695 - val_loss: 0.0766 - val_accuracy: 0.9697\n",
      "Epoch 97/200\n",
      "26503/26503 [==============================] - 3s 99us/sample - loss: 0.0803 - accuracy: 0.9694 - val_loss: 0.0763 - val_accuracy: 0.9702\n",
      "Epoch 98/200\n",
      "26503/26503 [==============================] - 3s 98us/sample - loss: 0.0811 - accuracy: 0.9687 - val_loss: 0.0770 - val_accuracy: 0.9692\n",
      "Epoch 99/200\n",
      "26503/26503 [==============================] - 2s 91us/sample - loss: 0.0804 - accuracy: 0.9697 - val_loss: 0.0825 - val_accuracy: 0.9679\n",
      "Epoch 100/200\n",
      "26503/26503 [==============================] - 2s 94us/sample - loss: 0.0800 - accuracy: 0.9701 - val_loss: 0.0751 - val_accuracy: 0.9710\n",
      "Epoch 101/200\n",
      "26503/26503 [==============================] - 2s 93us/sample - loss: 0.0803 - accuracy: 0.9702 - val_loss: 0.0755 - val_accuracy: 0.9707\n",
      "Epoch 102/200\n",
      "26503/26503 [==============================] - 2s 93us/sample - loss: 0.0801 - accuracy: 0.9690 - val_loss: 0.0759 - val_accuracy: 0.9694\n",
      "Epoch 103/200\n",
      "26503/26503 [==============================] - 2s 93us/sample - loss: 0.0793 - accuracy: 0.9698 - val_loss: 0.0801 - val_accuracy: 0.9686\n",
      "Epoch 104/200\n",
      "26503/26503 [==============================] - 2s 93us/sample - loss: 0.0797 - accuracy: 0.9698 - val_loss: 0.0780 - val_accuracy: 0.9693\n",
      "Epoch 105/200\n",
      "26503/26503 [==============================] - 3s 95us/sample - loss: 0.0808 - accuracy: 0.9693 - val_loss: 0.0748 - val_accuracy: 0.9703\n",
      "Epoch 106/200\n",
      "26503/26503 [==============================] - 3s 95us/sample - loss: 0.0802 - accuracy: 0.9692 - val_loss: 0.0777 - val_accuracy: 0.9699\n",
      "Epoch 107/200\n",
      "26503/26503 [==============================] - 3s 94us/sample - loss: 0.0793 - accuracy: 0.9701 - val_loss: 0.0766 - val_accuracy: 0.9695\n",
      "Epoch 108/200\n",
      "26503/26503 [==============================] - 3s 101us/sample - loss: 0.0794 - accuracy: 0.9696 - val_loss: 0.0797 - val_accuracy: 0.9683\n",
      "Epoch 109/200\n",
      "26503/26503 [==============================] - 3s 106us/sample - loss: 0.0796 - accuracy: 0.9702 - val_loss: 0.0799 - val_accuracy: 0.9695\n",
      "Epoch 110/200\n",
      "26503/26503 [==============================] - 3s 98us/sample - loss: 0.0796 - accuracy: 0.9702 - val_loss: 0.0789 - val_accuracy: 0.9699\n",
      "Epoch 111/200\n",
      "26503/26503 [==============================] - 2s 91us/sample - loss: 0.0801 - accuracy: 0.9695 - val_loss: 0.0776 - val_accuracy: 0.9686\n",
      "Epoch 112/200\n",
      "26503/26503 [==============================] - 2s 91us/sample - loss: 0.0804 - accuracy: 0.9689 - val_loss: 0.0748 - val_accuracy: 0.9698\n",
      "Epoch 113/200\n",
      "26503/26503 [==============================] - 2s 91us/sample - loss: 0.0807 - accuracy: 0.9691 - val_loss: 0.0767 - val_accuracy: 0.9693\n",
      "Epoch 114/200\n",
      "26503/26503 [==============================] - 2s 92us/sample - loss: 0.0804 - accuracy: 0.9694 - val_loss: 0.0766 - val_accuracy: 0.9703\n"
     ]
    }
   ],
   "source": [
    "with tf.device('/gpu:0'):\n",
    "    history_keras = model_keras.fit(X_train,y_train,validation_data=(X_test,y_test),batch_size=64,epochs=200,verbose=1, callbacks = [es])"
   ]
  },
  {
   "cell_type": "code",
   "execution_count": 43,
   "metadata": {},
   "outputs": [
    {
     "name": "stdout",
     "output_type": "stream",
     "text": [
      "Validation Accuracy of Neural Network 96.5704584040747\n"
     ]
    },
    {
     "data": {
      "image/png": "[encoded data removed]",
      "text/plain": [
       "<Figure size 648x648 with 2 Axes>"
      ]
     },
     "metadata": {
      "needs_background": "light"
     },
     "output_type": "display_data"
    }
   ],
   "source": [
    "with tf.device('/gpu:0'):\n",
    "    prediction_keras=model_keras.predict(X_val)\n",
    "    length=len(prediction_keras)\n",
    "    y_label=np.argmax(y_val,axis=1)\n",
    "    predict_label_keras=np.argmax(prediction_keras,axis=1)\n",
    "\n",
    "    accuracy_keras=np.sum(y_label==predict_label_keras)/length * 100 \n",
    "    print(\"Validation Accuracy of Neural Network\",accuracy_keras )\n",
    "    cm = show_confusion_matrix(y_test = y_label, y_pred = predict_label_keras, score = accuracy_keras)"
   ]
  },
  {
   "cell_type": "code",
   "execution_count": null,
   "metadata": {},
   "outputs": [],
   "source": []
  },
  {
   "cell_type": "code",
   "execution_count": null,
   "metadata": {},
   "outputs": [],
   "source": []
  }
 ],
 "metadata": {
  "kernelspec": {
   "display_name": "Python 3",
   "language": "python",
   "name": "python3"
  },
  "language_info": {
   "codemirror_mode": {
    "name": "ipython",
    "version": 3
   },
   "file_extension": ".py",
   "mimetype": "text/x-python",
   "name": "python",
   "nbconvert_exporter": "python",
   "pygments_lexer": "ipython3",
   "version": "3.6.13"
  }
 },
 "nbformat": 4,
 "nbformat_minor": 4
}
